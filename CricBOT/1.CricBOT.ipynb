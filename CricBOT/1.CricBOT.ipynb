{
 "cells": [
  {
   "cell_type": "code",
   "execution_count": 27,
   "metadata": {},
   "outputs": [],
   "source": [
    "import numpy as np # linear algebra\n",
    "import pandas as pd # data processing"
   ]
  },
  {
   "cell_type": "code",
   "execution_count": 28,
   "metadata": {},
   "outputs": [
    {
     "name": "stdout",
     "output_type": "stream",
     "text": [
      "<class 'pandas.core.frame.DataFrame'>\n",
      "RangeIndex: 756 entries, 0 to 755\n",
      "Data columns (total 18 columns):\n",
      " #   Column           Non-Null Count  Dtype \n",
      "---  ------           --------------  ----- \n",
      " 0   id               756 non-null    int64 \n",
      " 1   Season           756 non-null    object\n",
      " 2   city             749 non-null    object\n",
      " 3   date             756 non-null    object\n",
      " 4   team1            756 non-null    object\n",
      " 5   team2            756 non-null    object\n",
      " 6   toss_winner      756 non-null    object\n",
      " 7   toss_decision    756 non-null    object\n",
      " 8   result           756 non-null    object\n",
      " 9   dl_applied       756 non-null    int64 \n",
      " 10  winner           752 non-null    object\n",
      " 11  win_by_runs      756 non-null    int64 \n",
      " 12  win_by_wickets   756 non-null    int64 \n",
      " 13  player_of_match  752 non-null    object\n",
      " 14  venue            756 non-null    object\n",
      " 15  umpire1          754 non-null    object\n",
      " 16  umpire2          754 non-null    object\n",
      " 17  umpire3          119 non-null    object\n",
      "dtypes: int64(4), object(14)\n",
      "memory usage: 106.4+ KB\n"
     ]
    },
    {
     "data": {
      "text/html": [
       "<div>\n",
       "<style scoped>\n",
       "    .dataframe tbody tr th:only-of-type {\n",
       "        vertical-align: middle;\n",
       "    }\n",
       "\n",
       "    .dataframe tbody tr th {\n",
       "        vertical-align: top;\n",
       "    }\n",
       "\n",
       "    .dataframe thead th {\n",
       "        text-align: right;\n",
       "    }\n",
       "</style>\n",
       "<table border=\"1\" class=\"dataframe\">\n",
       "  <thead>\n",
       "    <tr style=\"text-align: right;\">\n",
       "      <th></th>\n",
       "      <th>id</th>\n",
       "      <th>Season</th>\n",
       "      <th>city</th>\n",
       "      <th>date</th>\n",
       "      <th>team1</th>\n",
       "      <th>team2</th>\n",
       "      <th>toss_winner</th>\n",
       "      <th>toss_decision</th>\n",
       "      <th>result</th>\n",
       "      <th>dl_applied</th>\n",
       "      <th>winner</th>\n",
       "      <th>win_by_runs</th>\n",
       "      <th>win_by_wickets</th>\n",
       "      <th>player_of_match</th>\n",
       "      <th>venue</th>\n",
       "      <th>umpire1</th>\n",
       "      <th>umpire2</th>\n",
       "      <th>umpire3</th>\n",
       "    </tr>\n",
       "  </thead>\n",
       "  <tbody>\n",
       "    <tr>\n",
       "      <th>0</th>\n",
       "      <td>1</td>\n",
       "      <td>IPL-2017</td>\n",
       "      <td>Hyderabad</td>\n",
       "      <td>05-04-2017</td>\n",
       "      <td>Sunrisers Hyderabad</td>\n",
       "      <td>Royal Challengers Bangalore</td>\n",
       "      <td>Royal Challengers Bangalore</td>\n",
       "      <td>field</td>\n",
       "      <td>normal</td>\n",
       "      <td>0</td>\n",
       "      <td>Sunrisers Hyderabad</td>\n",
       "      <td>35</td>\n",
       "      <td>0</td>\n",
       "      <td>Yuvraj Singh</td>\n",
       "      <td>Rajiv Gandhi International Stadium, Uppal</td>\n",
       "      <td>AY Dandekar</td>\n",
       "      <td>NJ Llong</td>\n",
       "      <td>NaN</td>\n",
       "    </tr>\n",
       "    <tr>\n",
       "      <th>1</th>\n",
       "      <td>2</td>\n",
       "      <td>IPL-2017</td>\n",
       "      <td>Pune</td>\n",
       "      <td>06-04-2017</td>\n",
       "      <td>Mumbai Indians</td>\n",
       "      <td>Rising Pune Supergiant</td>\n",
       "      <td>Rising Pune Supergiant</td>\n",
       "      <td>field</td>\n",
       "      <td>normal</td>\n",
       "      <td>0</td>\n",
       "      <td>Rising Pune Supergiant</td>\n",
       "      <td>0</td>\n",
       "      <td>7</td>\n",
       "      <td>SPD Smith</td>\n",
       "      <td>Maharashtra Cricket Association Stadium</td>\n",
       "      <td>A Nand Kishore</td>\n",
       "      <td>S Ravi</td>\n",
       "      <td>NaN</td>\n",
       "    </tr>\n",
       "    <tr>\n",
       "      <th>2</th>\n",
       "      <td>3</td>\n",
       "      <td>IPL-2017</td>\n",
       "      <td>Rajkot</td>\n",
       "      <td>07-04-2017</td>\n",
       "      <td>Gujarat Lions</td>\n",
       "      <td>Kolkata Knight Riders</td>\n",
       "      <td>Kolkata Knight Riders</td>\n",
       "      <td>field</td>\n",
       "      <td>normal</td>\n",
       "      <td>0</td>\n",
       "      <td>Kolkata Knight Riders</td>\n",
       "      <td>0</td>\n",
       "      <td>10</td>\n",
       "      <td>CA Lynn</td>\n",
       "      <td>Saurashtra Cricket Association Stadium</td>\n",
       "      <td>Nitin Menon</td>\n",
       "      <td>CK Nandan</td>\n",
       "      <td>NaN</td>\n",
       "    </tr>\n",
       "    <tr>\n",
       "      <th>3</th>\n",
       "      <td>4</td>\n",
       "      <td>IPL-2017</td>\n",
       "      <td>Indore</td>\n",
       "      <td>08-04-2017</td>\n",
       "      <td>Rising Pune Supergiant</td>\n",
       "      <td>Kings XI Punjab</td>\n",
       "      <td>Kings XI Punjab</td>\n",
       "      <td>field</td>\n",
       "      <td>normal</td>\n",
       "      <td>0</td>\n",
       "      <td>Kings XI Punjab</td>\n",
       "      <td>0</td>\n",
       "      <td>6</td>\n",
       "      <td>GJ Maxwell</td>\n",
       "      <td>Holkar Cricket Stadium</td>\n",
       "      <td>AK Chaudhary</td>\n",
       "      <td>C Shamshuddin</td>\n",
       "      <td>NaN</td>\n",
       "    </tr>\n",
       "    <tr>\n",
       "      <th>4</th>\n",
       "      <td>5</td>\n",
       "      <td>IPL-2017</td>\n",
       "      <td>Bangalore</td>\n",
       "      <td>08-04-2017</td>\n",
       "      <td>Royal Challengers Bangalore</td>\n",
       "      <td>Delhi Daredevils</td>\n",
       "      <td>Royal Challengers Bangalore</td>\n",
       "      <td>bat</td>\n",
       "      <td>normal</td>\n",
       "      <td>0</td>\n",
       "      <td>Royal Challengers Bangalore</td>\n",
       "      <td>15</td>\n",
       "      <td>0</td>\n",
       "      <td>KM Jadhav</td>\n",
       "      <td>M Chinnaswamy Stadium</td>\n",
       "      <td>NaN</td>\n",
       "      <td>NaN</td>\n",
       "      <td>NaN</td>\n",
       "    </tr>\n",
       "  </tbody>\n",
       "</table>\n",
       "</div>"
      ],
      "text/plain": [
       "   id    Season       city        date                        team1  \\\n",
       "0   1  IPL-2017  Hyderabad  05-04-2017          Sunrisers Hyderabad   \n",
       "1   2  IPL-2017       Pune  06-04-2017               Mumbai Indians   \n",
       "2   3  IPL-2017     Rajkot  07-04-2017                Gujarat Lions   \n",
       "3   4  IPL-2017     Indore  08-04-2017       Rising Pune Supergiant   \n",
       "4   5  IPL-2017  Bangalore  08-04-2017  Royal Challengers Bangalore   \n",
       "\n",
       "                         team2                  toss_winner toss_decision  \\\n",
       "0  Royal Challengers Bangalore  Royal Challengers Bangalore         field   \n",
       "1       Rising Pune Supergiant       Rising Pune Supergiant         field   \n",
       "2        Kolkata Knight Riders        Kolkata Knight Riders         field   \n",
       "3              Kings XI Punjab              Kings XI Punjab         field   \n",
       "4             Delhi Daredevils  Royal Challengers Bangalore           bat   \n",
       "\n",
       "   result  dl_applied                       winner  win_by_runs  \\\n",
       "0  normal           0          Sunrisers Hyderabad           35   \n",
       "1  normal           0       Rising Pune Supergiant            0   \n",
       "2  normal           0        Kolkata Knight Riders            0   \n",
       "3  normal           0              Kings XI Punjab            0   \n",
       "4  normal           0  Royal Challengers Bangalore           15   \n",
       "\n",
       "   win_by_wickets player_of_match                                      venue  \\\n",
       "0               0    Yuvraj Singh  Rajiv Gandhi International Stadium, Uppal   \n",
       "1               7       SPD Smith    Maharashtra Cricket Association Stadium   \n",
       "2              10         CA Lynn     Saurashtra Cricket Association Stadium   \n",
       "3               6      GJ Maxwell                     Holkar Cricket Stadium   \n",
       "4               0       KM Jadhav                      M Chinnaswamy Stadium   \n",
       "\n",
       "          umpire1        umpire2 umpire3  \n",
       "0     AY Dandekar       NJ Llong     NaN  \n",
       "1  A Nand Kishore         S Ravi     NaN  \n",
       "2     Nitin Menon      CK Nandan     NaN  \n",
       "3    AK Chaudhary  C Shamshuddin     NaN  \n",
       "4             NaN            NaN     NaN  "
      ]
     },
     "execution_count": 28,
     "metadata": {},
     "output_type": "execute_result"
    }
   ],
   "source": [
    "matches=pd.read_csv('new_matches.csv')\n",
    "matches.info()\n",
    "matches.head()"
   ]
  },
  {
   "cell_type": "code",
   "execution_count": 70,
   "metadata": {},
   "outputs": [
    {
     "data": {
      "text/html": [
       "<div>\n",
       "<style scoped>\n",
       "    .dataframe tbody tr th:only-of-type {\n",
       "        vertical-align: middle;\n",
       "    }\n",
       "\n",
       "    .dataframe tbody tr th {\n",
       "        vertical-align: top;\n",
       "    }\n",
       "\n",
       "    .dataframe thead th {\n",
       "        text-align: right;\n",
       "    }\n",
       "</style>\n",
       "<table border=\"1\" class=\"dataframe\">\n",
       "  <thead>\n",
       "    <tr style=\"text-align: right;\">\n",
       "      <th></th>\n",
       "      <th>team1</th>\n",
       "      <th>team2</th>\n",
       "      <th>city</th>\n",
       "      <th>toss_decision</th>\n",
       "      <th>toss_winner</th>\n",
       "      <th>venue</th>\n",
       "      <th>winner</th>\n",
       "    </tr>\n",
       "  </thead>\n",
       "  <tbody>\n",
       "    <tr>\n",
       "      <th>751</th>\n",
       "      <td>2</td>\n",
       "      <td>1</td>\n",
       "      <td>Mumbai</td>\n",
       "      <td>field</td>\n",
       "      <td>1</td>\n",
       "      <td>Wankhede Stadium</td>\n",
       "      <td>1</td>\n",
       "    </tr>\n",
       "    <tr>\n",
       "      <th>752</th>\n",
       "      <td>5</td>\n",
       "      <td>1</td>\n",
       "      <td>Chennai</td>\n",
       "      <td>bat</td>\n",
       "      <td>5</td>\n",
       "      <td>M. A. Chidambaram Stadium</td>\n",
       "      <td>1</td>\n",
       "    </tr>\n",
       "    <tr>\n",
       "      <th>753</th>\n",
       "      <td>10</td>\n",
       "      <td>4</td>\n",
       "      <td>Visakhapatnam</td>\n",
       "      <td>field</td>\n",
       "      <td>4</td>\n",
       "      <td>ACA-VDCA Stadium</td>\n",
       "      <td>4</td>\n",
       "    </tr>\n",
       "    <tr>\n",
       "      <th>754</th>\n",
       "      <td>4</td>\n",
       "      <td>5</td>\n",
       "      <td>Visakhapatnam</td>\n",
       "      <td>field</td>\n",
       "      <td>5</td>\n",
       "      <td>ACA-VDCA Stadium</td>\n",
       "      <td>5</td>\n",
       "    </tr>\n",
       "    <tr>\n",
       "      <th>755</th>\n",
       "      <td>1</td>\n",
       "      <td>5</td>\n",
       "      <td>Hyderabad</td>\n",
       "      <td>bat</td>\n",
       "      <td>1</td>\n",
       "      <td>Rajiv Gandhi Intl. Cricket Stadium</td>\n",
       "      <td>1</td>\n",
       "    </tr>\n",
       "  </tbody>\n",
       "</table>\n",
       "</div>"
      ],
      "text/plain": [
       "    team1 team2           city toss_decision toss_winner  \\\n",
       "751     2     1         Mumbai         field           1   \n",
       "752     5     1        Chennai           bat           5   \n",
       "753    10     4  Visakhapatnam         field           4   \n",
       "754     4     5  Visakhapatnam         field           5   \n",
       "755     1     5      Hyderabad           bat           1   \n",
       "\n",
       "                                  venue winner  \n",
       "751                    Wankhede Stadium      1  \n",
       "752           M. A. Chidambaram Stadium      1  \n",
       "753                    ACA-VDCA Stadium      4  \n",
       "754                    ACA-VDCA Stadium      5  \n",
       "755  Rajiv Gandhi Intl. Cricket Stadium      1  "
      ]
     },
     "execution_count": 70,
     "metadata": {},
     "output_type": "execute_result"
    }
   ],
   "source": [
    "matches.tail()"
   ]
  },
  {
   "cell_type": "code",
   "execution_count": 30,
   "metadata": {},
   "outputs": [
    {
     "data": {
      "text/html": [
       "<div>\n",
       "<style scoped>\n",
       "    .dataframe tbody tr th:only-of-type {\n",
       "        vertical-align: middle;\n",
       "    }\n",
       "\n",
       "    .dataframe tbody tr th {\n",
       "        vertical-align: top;\n",
       "    }\n",
       "\n",
       "    .dataframe thead th {\n",
       "        text-align: right;\n",
       "    }\n",
       "</style>\n",
       "<table border=\"1\" class=\"dataframe\">\n",
       "  <thead>\n",
       "    <tr style=\"text-align: right;\">\n",
       "      <th></th>\n",
       "      <th>id</th>\n",
       "      <th>Season</th>\n",
       "      <th>city</th>\n",
       "      <th>date</th>\n",
       "      <th>team1</th>\n",
       "      <th>team2</th>\n",
       "      <th>toss_winner</th>\n",
       "      <th>toss_decision</th>\n",
       "      <th>result</th>\n",
       "      <th>dl_applied</th>\n",
       "      <th>winner</th>\n",
       "      <th>win_by_runs</th>\n",
       "      <th>win_by_wickets</th>\n",
       "      <th>player_of_match</th>\n",
       "      <th>venue</th>\n",
       "      <th>umpire1</th>\n",
       "      <th>umpire2</th>\n",
       "      <th>umpire3</th>\n",
       "    </tr>\n",
       "  </thead>\n",
       "  <tbody>\n",
       "    <tr>\n",
       "      <th>300</th>\n",
       "      <td>301</td>\n",
       "      <td>IPL-2011</td>\n",
       "      <td>Delhi</td>\n",
       "      <td>21-05-2011</td>\n",
       "      <td>Delhi Daredevils</td>\n",
       "      <td>Pune Warriors</td>\n",
       "      <td>Delhi Daredevils</td>\n",
       "      <td>bat</td>\n",
       "      <td>no result</td>\n",
       "      <td>0</td>\n",
       "      <td>NaN</td>\n",
       "      <td>0</td>\n",
       "      <td>0</td>\n",
       "      <td>NaN</td>\n",
       "      <td>Feroz Shah Kotla</td>\n",
       "      <td>SS Hazare</td>\n",
       "      <td>RJ Tucker</td>\n",
       "      <td>NaN</td>\n",
       "    </tr>\n",
       "    <tr>\n",
       "      <th>545</th>\n",
       "      <td>546</td>\n",
       "      <td>IPL-2015</td>\n",
       "      <td>Bangalore</td>\n",
       "      <td>29-04-2015</td>\n",
       "      <td>Royal Challengers Bangalore</td>\n",
       "      <td>Rajasthan Royals</td>\n",
       "      <td>Rajasthan Royals</td>\n",
       "      <td>field</td>\n",
       "      <td>no result</td>\n",
       "      <td>0</td>\n",
       "      <td>NaN</td>\n",
       "      <td>0</td>\n",
       "      <td>0</td>\n",
       "      <td>NaN</td>\n",
       "      <td>M Chinnaswamy Stadium</td>\n",
       "      <td>JD Cloete</td>\n",
       "      <td>PG Pathak</td>\n",
       "      <td>NaN</td>\n",
       "    </tr>\n",
       "    <tr>\n",
       "      <th>570</th>\n",
       "      <td>571</td>\n",
       "      <td>IPL-2015</td>\n",
       "      <td>Bangalore</td>\n",
       "      <td>17-05-2015</td>\n",
       "      <td>Delhi Daredevils</td>\n",
       "      <td>Royal Challengers Bangalore</td>\n",
       "      <td>Royal Challengers Bangalore</td>\n",
       "      <td>field</td>\n",
       "      <td>no result</td>\n",
       "      <td>0</td>\n",
       "      <td>NaN</td>\n",
       "      <td>0</td>\n",
       "      <td>0</td>\n",
       "      <td>NaN</td>\n",
       "      <td>M Chinnaswamy Stadium</td>\n",
       "      <td>HDPK Dharmasena</td>\n",
       "      <td>K Srinivasan</td>\n",
       "      <td>NaN</td>\n",
       "    </tr>\n",
       "    <tr>\n",
       "      <th>744</th>\n",
       "      <td>11340</td>\n",
       "      <td>IPL-2019</td>\n",
       "      <td>Bengaluru</td>\n",
       "      <td>30-04-2019</td>\n",
       "      <td>Royal Challengers Bangalore</td>\n",
       "      <td>Rajasthan Royals</td>\n",
       "      <td>Rajasthan Royals</td>\n",
       "      <td>field</td>\n",
       "      <td>no result</td>\n",
       "      <td>0</td>\n",
       "      <td>NaN</td>\n",
       "      <td>0</td>\n",
       "      <td>0</td>\n",
       "      <td>NaN</td>\n",
       "      <td>M. Chinnaswamy Stadium</td>\n",
       "      <td>Nigel Llong</td>\n",
       "      <td>Ulhas Gandhe</td>\n",
       "      <td>Anil Chaudhary</td>\n",
       "    </tr>\n",
       "  </tbody>\n",
       "</table>\n",
       "</div>"
      ],
      "text/plain": [
       "        id    Season       city        date                        team1  \\\n",
       "300    301  IPL-2011      Delhi  21-05-2011             Delhi Daredevils   \n",
       "545    546  IPL-2015  Bangalore  29-04-2015  Royal Challengers Bangalore   \n",
       "570    571  IPL-2015  Bangalore  17-05-2015             Delhi Daredevils   \n",
       "744  11340  IPL-2019  Bengaluru  30-04-2019  Royal Challengers Bangalore   \n",
       "\n",
       "                           team2                  toss_winner toss_decision  \\\n",
       "300                Pune Warriors             Delhi Daredevils           bat   \n",
       "545             Rajasthan Royals             Rajasthan Royals         field   \n",
       "570  Royal Challengers Bangalore  Royal Challengers Bangalore         field   \n",
       "744             Rajasthan Royals             Rajasthan Royals         field   \n",
       "\n",
       "        result  dl_applied winner  win_by_runs  win_by_wickets  \\\n",
       "300  no result           0    NaN            0               0   \n",
       "545  no result           0    NaN            0               0   \n",
       "570  no result           0    NaN            0               0   \n",
       "744  no result           0    NaN            0               0   \n",
       "\n",
       "    player_of_match                   venue          umpire1       umpire2  \\\n",
       "300             NaN        Feroz Shah Kotla        SS Hazare     RJ Tucker   \n",
       "545             NaN   M Chinnaswamy Stadium        JD Cloete     PG Pathak   \n",
       "570             NaN   M Chinnaswamy Stadium  HDPK Dharmasena  K Srinivasan   \n",
       "744             NaN  M. Chinnaswamy Stadium      Nigel Llong  Ulhas Gandhe   \n",
       "\n",
       "            umpire3  \n",
       "300             NaN  \n",
       "545             NaN  \n",
       "570             NaN  \n",
       "744  Anil Chaudhary  "
      ]
     },
     "execution_count": 30,
     "metadata": {},
     "output_type": "execute_result"
    }
   ],
   "source": [
    "matches[pd.isnull(matches['winner'])]\n",
    "#find all NaN values in winner column, so that we update this as draw"
   ]
  },
  {
   "cell_type": "code",
   "execution_count": 31,
   "metadata": {},
   "outputs": [],
   "source": [
    "matches['winner'].fillna('Draw', inplace=True)"
   ]
  },
  {
   "cell_type": "code",
   "execution_count": 32,
   "metadata": {},
   "outputs": [
    {
     "data": {
      "text/plain": [
       "'Draw'"
      ]
     },
     "execution_count": 32,
     "metadata": {},
     "output_type": "execute_result"
    }
   ],
   "source": [
    "matches.loc[300,'winner']"
   ]
  },
  {
   "cell_type": "code",
   "execution_count": 73,
   "metadata": {},
   "outputs": [
    {
     "data": {
      "text/html": [
       "<div>\n",
       "<style scoped>\n",
       "    .dataframe tbody tr th:only-of-type {\n",
       "        vertical-align: middle;\n",
       "    }\n",
       "\n",
       "    .dataframe tbody tr th {\n",
       "        vertical-align: top;\n",
       "    }\n",
       "\n",
       "    .dataframe thead th {\n",
       "        text-align: right;\n",
       "    }\n",
       "</style>\n",
       "<table border=\"1\" class=\"dataframe\">\n",
       "  <thead>\n",
       "    <tr style=\"text-align: right;\">\n",
       "      <th></th>\n",
       "      <th>team1</th>\n",
       "      <th>team2</th>\n",
       "      <th>city</th>\n",
       "      <th>toss_decision</th>\n",
       "      <th>toss_winner</th>\n",
       "      <th>venue</th>\n",
       "      <th>winner</th>\n",
       "    </tr>\n",
       "  </thead>\n",
       "  <tbody>\n",
       "    <tr>\n",
       "      <th>754</th>\n",
       "      <td>4</td>\n",
       "      <td>5</td>\n",
       "      <td>Visakhapatnam</td>\n",
       "      <td>field</td>\n",
       "      <td>5</td>\n",
       "      <td>ACA-VDCA Stadium</td>\n",
       "      <td>5</td>\n",
       "    </tr>\n",
       "    <tr>\n",
       "      <th>755</th>\n",
       "      <td>1</td>\n",
       "      <td>5</td>\n",
       "      <td>Hyderabad</td>\n",
       "      <td>bat</td>\n",
       "      <td>1</td>\n",
       "      <td>Rajiv Gandhi Intl. Cricket Stadium</td>\n",
       "      <td>1</td>\n",
       "    </tr>\n",
       "  </tbody>\n",
       "</table>\n",
       "</div>"
      ],
      "text/plain": [
       "    team1 team2           city toss_decision toss_winner  \\\n",
       "754     4     5  Visakhapatnam         field           5   \n",
       "755     1     5      Hyderabad           bat           1   \n",
       "\n",
       "                                  venue winner  \n",
       "754                    ACA-VDCA Stadium      5  \n",
       "755  Rajiv Gandhi Intl. Cricket Stadium      1  "
      ]
     },
     "execution_count": 73,
     "metadata": {},
     "output_type": "execute_result"
    }
   ],
   "source": [
    "matches.replace(['Mumbai Indians','Kolkata Knight Riders','Royal Challengers Bangalore','Delhi Capitals','Chennai Super Kings',\n",
    "                 'Rajasthan Royals','Delhi Daredevils','Gujarat Lions','Kings XI Punjab',\n",
    "                 'Sunrisers Hyderabad','Rising Pune Supergiants','Kochi Tuskers Kerala','Pune Warriors','Deccan Chargers','Rising Pune Supergiant']\n",
    "                ,['MI','KKR','RCB','DC','CSK','RR','DD','GL','KXIP','SRH','RPS','KTK','PW','Deccan Chargers','RPS'],inplace=True)\n",
    "\n",
    "\n",
    "matches.tail(2)"
   ]
  },
  {
   "cell_type": "code",
   "execution_count": 74,
   "metadata": {},
   "outputs": [
    {
     "data": {
      "text/html": [
       "<div>\n",
       "<style scoped>\n",
       "    .dataframe tbody tr th:only-of-type {\n",
       "        vertical-align: middle;\n",
       "    }\n",
       "\n",
       "    .dataframe tbody tr th {\n",
       "        vertical-align: top;\n",
       "    }\n",
       "\n",
       "    .dataframe thead th {\n",
       "        text-align: right;\n",
       "    }\n",
       "</style>\n",
       "<table border=\"1\" class=\"dataframe\">\n",
       "  <thead>\n",
       "    <tr style=\"text-align: right;\">\n",
       "      <th></th>\n",
       "      <th>team1</th>\n",
       "      <th>team2</th>\n",
       "      <th>city</th>\n",
       "      <th>toss_decision</th>\n",
       "      <th>toss_winner</th>\n",
       "      <th>venue</th>\n",
       "      <th>winner</th>\n",
       "    </tr>\n",
       "  </thead>\n",
       "  <tbody>\n",
       "    <tr>\n",
       "      <th>0</th>\n",
       "      <td>10</td>\n",
       "      <td>3</td>\n",
       "      <td>Hyderabad</td>\n",
       "      <td>field</td>\n",
       "      <td>3</td>\n",
       "      <td>Rajiv Gandhi International Stadium, Uppal</td>\n",
       "      <td>10</td>\n",
       "    </tr>\n",
       "    <tr>\n",
       "      <th>1</th>\n",
       "      <td>1</td>\n",
       "      <td>11</td>\n",
       "      <td>Pune</td>\n",
       "      <td>field</td>\n",
       "      <td>11</td>\n",
       "      <td>Maharashtra Cricket Association Stadium</td>\n",
       "      <td>11</td>\n",
       "    </tr>\n",
       "    <tr>\n",
       "      <th>2</th>\n",
       "      <td>8</td>\n",
       "      <td>2</td>\n",
       "      <td>Rajkot</td>\n",
       "      <td>field</td>\n",
       "      <td>2</td>\n",
       "      <td>Saurashtra Cricket Association Stadium</td>\n",
       "      <td>2</td>\n",
       "    </tr>\n",
       "    <tr>\n",
       "      <th>3</th>\n",
       "      <td>11</td>\n",
       "      <td>9</td>\n",
       "      <td>Indore</td>\n",
       "      <td>field</td>\n",
       "      <td>9</td>\n",
       "      <td>Holkar Cricket Stadium</td>\n",
       "      <td>9</td>\n",
       "    </tr>\n",
       "  </tbody>\n",
       "</table>\n",
       "</div>"
      ],
      "text/plain": [
       "   team1  team2       city toss_decision  toss_winner  \\\n",
       "0     10      3  Hyderabad         field            3   \n",
       "1      1     11       Pune         field           11   \n",
       "2      8      2     Rajkot         field            2   \n",
       "3     11      9     Indore         field            9   \n",
       "\n",
       "                                       venue  winner  \n",
       "0  Rajiv Gandhi International Stadium, Uppal      10  \n",
       "1    Maharashtra Cricket Association Stadium      11  \n",
       "2     Saurashtra Cricket Association Stadium       2  \n",
       "3                     Holkar Cricket Stadium       9  "
      ]
     },
     "execution_count": 74,
     "metadata": {},
     "output_type": "execute_result"
    }
   ],
   "source": [
    "encode = {'team1': {'MI':1,'KKR':2,'RCB':3,'DC':4,'CSK':5,'RR':6,'DD':7,'GL':8,'KXIP':9,'SRH':10,'RPS':11,'KTK':12,'PW':13,'Deccan Chargers':14},\n",
    "          'team2': {'MI':1,'KKR':2,'RCB':3,'DC':4,'CSK':5,'RR':6,'DD':7,'GL':8,'KXIP':9,'SRH':10,'RPS':11,'KTK':12,'PW':1,'Deccan Chargers':14},\n",
    "          'toss_winner': {'MI':1,'KKR':2,'RCB':3,'DC':4,'CSK':5,'RR':6,'DD':7,'GL':8,'KXIP':9,'SRH':10,'RPS':11,'KTK':12,'PW':13,'Deccan Chargers':14},\n",
    "          'winner': {'MI':1,'KKR':2,'RCB':3,'DC':4,'CSK':5,'RR':6,'DD':7,'GL':8,'KXIP':9,'SRH':10,'RPS':11,'KTK':12,'PW':13,'Deccan Chargers':14,'Draw':15}}\n",
    "matches.replace(encode, inplace=True)\n",
    "matches.head(4)"
   ]
  },
  {
   "cell_type": "code",
   "execution_count": 75,
   "metadata": {},
   "outputs": [
    {
     "data": {
      "text/html": [
       "<div>\n",
       "<style scoped>\n",
       "    .dataframe tbody tr th:only-of-type {\n",
       "        vertical-align: middle;\n",
       "    }\n",
       "\n",
       "    .dataframe tbody tr th {\n",
       "        vertical-align: top;\n",
       "    }\n",
       "\n",
       "    .dataframe thead th {\n",
       "        text-align: right;\n",
       "    }\n",
       "</style>\n",
       "<table border=\"1\" class=\"dataframe\">\n",
       "  <thead>\n",
       "    <tr style=\"text-align: right;\">\n",
       "      <th></th>\n",
       "      <th>team1</th>\n",
       "      <th>team2</th>\n",
       "      <th>city</th>\n",
       "      <th>toss_decision</th>\n",
       "      <th>toss_winner</th>\n",
       "      <th>venue</th>\n",
       "      <th>winner</th>\n",
       "    </tr>\n",
       "  </thead>\n",
       "  <tbody>\n",
       "  </tbody>\n",
       "</table>\n",
       "</div>"
      ],
      "text/plain": [
       "Empty DataFrame\n",
       "Columns: [team1, team2, city, toss_decision, toss_winner, venue, winner]\n",
       "Index: []"
      ]
     },
     "execution_count": 75,
     "metadata": {},
     "output_type": "execute_result"
    }
   ],
   "source": [
    "#Find cities which are null\n",
    "matches[pd.isnull(matches['city'])]"
   ]
  },
  {
   "cell_type": "code",
   "execution_count": 76,
   "metadata": {},
   "outputs": [
    {
     "name": "stdout",
     "output_type": "stream",
     "text": [
      "1. remove any null values, winner has hence fill the null value in winner as draw\n",
      "2. City is also null, this is mainly for Dubai stadium. Hence update the City as Dubai\n",
      "3. Make sure to impute the data(cleansing and finding missing data), there is also other process \n",
      "4. to verify expected value based on other resultants, for now by stadium, city is easily manually updated\n"
     ]
    }
   ],
   "source": [
    "#just to say what to do in the next line- \n",
    "def nxt_line(a):\n",
    "    \"\"\"1. remove any null values, winner has hence fill the null value in winner as draw\n",
    "2. City is also null, this is mainly for Dubai stadium. Hence update the City as Dubai\n",
    "3. Make sure to impute the data(cleansing and finding missing data), there is also other process \n",
    "4. to verify expected value based on other resultants, for now by stadium, city is easily manually updated\"\"\"\n",
    "print(nxt_line.__doc__)"
   ]
  },
  {
   "cell_type": "code",
   "execution_count": 77,
   "metadata": {},
   "outputs": [
    {
     "name": "stdout",
     "output_type": "stream",
     "text": [
      "<class 'pandas.core.frame.DataFrame'>\n",
      "RangeIndex: 756 entries, 0 to 755\n",
      "Data columns (total 7 columns):\n",
      " #   Column         Non-Null Count  Dtype \n",
      "---  ------         --------------  ----- \n",
      " 0   team1          756 non-null    int64 \n",
      " 1   team2          756 non-null    int64 \n",
      " 2   city           756 non-null    object\n",
      " 3   toss_decision  756 non-null    object\n",
      " 4   toss_winner    756 non-null    int64 \n",
      " 5   venue          756 non-null    object\n",
      " 6   winner         756 non-null    int64 \n",
      "dtypes: int64(4), object(3)\n",
      "memory usage: 41.5+ KB\n"
     ]
    }
   ],
   "source": [
    "matches['city'].fillna('Dubai',inplace=True)\n",
    "matches.describe()\n",
    "matches.info()"
   ]
  },
  {
   "cell_type": "code",
   "execution_count": 78,
   "metadata": {},
   "outputs": [
    {
     "name": "stdout",
     "output_type": "stream",
     "text": [
      "toss_winner\n",
      "1     98\n",
      "2     92\n",
      "3     81\n",
      "4     53\n",
      "5     89\n",
      "6     80\n",
      "7     80\n",
      "8     15\n",
      "9     81\n",
      "10    46\n",
      "11    13\n",
      "12     8\n",
      "13    20\n",
      "dtype: int64\n",
      "winner\n",
      "1     109\n",
      "2      92\n",
      "3      84\n",
      "4      39\n",
      "5     100\n",
      "6      75\n",
      "7      67\n",
      "8      13\n",
      "9      82\n",
      "10     58\n",
      "11     15\n",
      "12      6\n",
      "13     12\n",
      "14      4\n",
      "dtype: int64\n"
     ]
    }
   ],
   "source": [
    "#team_match_total=matches.groupby([\"team1\"]).size()+matches.groupby([\"team2\"]).size()\n",
    "#print(team_match_total.get_value(1))\n",
    "xx=matches.groupby([\"toss_winner\"]).size()\n",
    "print(xx)\n",
    "yy=matches.groupby([\"winner\"]).size()\n",
    "print(yy)"
   ]
  },
  {
   "cell_type": "code",
   "execution_count": 79,
   "metadata": {},
   "outputs": [
    {
     "name": "stdout",
     "output_type": "stream",
     "text": [
      "1\n",
      "MI\n"
     ]
    }
   ],
   "source": [
    "#we maintain a dictionary for future reference mapping teams\n",
    "dicVal = encode['winner']\n",
    "print(dicVal['MI']) #key value\n",
    "print(list(dicVal.keys())[list(dicVal.values()).index(1)]) #find key by value search "
   ]
  },
  {
   "cell_type": "code",
   "execution_count": 80,
   "metadata": {},
   "outputs": [
    {
     "data": {
      "text/html": [
       "<div>\n",
       "<style scoped>\n",
       "    .dataframe tbody tr th:only-of-type {\n",
       "        vertical-align: middle;\n",
       "    }\n",
       "\n",
       "    .dataframe tbody tr th {\n",
       "        vertical-align: top;\n",
       "    }\n",
       "\n",
       "    .dataframe thead th {\n",
       "        text-align: right;\n",
       "    }\n",
       "</style>\n",
       "<table border=\"1\" class=\"dataframe\">\n",
       "  <thead>\n",
       "    <tr style=\"text-align: right;\">\n",
       "      <th></th>\n",
       "      <th>team1</th>\n",
       "      <th>team2</th>\n",
       "      <th>city</th>\n",
       "      <th>toss_decision</th>\n",
       "      <th>toss_winner</th>\n",
       "      <th>venue</th>\n",
       "      <th>winner</th>\n",
       "    </tr>\n",
       "  </thead>\n",
       "  <tbody>\n",
       "    <tr>\n",
       "      <th>0</th>\n",
       "      <td>10</td>\n",
       "      <td>3</td>\n",
       "      <td>Hyderabad</td>\n",
       "      <td>field</td>\n",
       "      <td>3</td>\n",
       "      <td>Rajiv Gandhi International Stadium, Uppal</td>\n",
       "      <td>10</td>\n",
       "    </tr>\n",
       "    <tr>\n",
       "      <th>1</th>\n",
       "      <td>1</td>\n",
       "      <td>11</td>\n",
       "      <td>Pune</td>\n",
       "      <td>field</td>\n",
       "      <td>11</td>\n",
       "      <td>Maharashtra Cricket Association Stadium</td>\n",
       "      <td>11</td>\n",
       "    </tr>\n",
       "  </tbody>\n",
       "</table>\n",
       "</div>"
      ],
      "text/plain": [
       "   team1  team2       city toss_decision  toss_winner  \\\n",
       "0     10      3  Hyderabad         field            3   \n",
       "1      1     11       Pune         field           11   \n",
       "\n",
       "                                       venue  winner  \n",
       "0  Rajiv Gandhi International Stadium, Uppal      10  \n",
       "1    Maharashtra Cricket Association Stadium      11  "
      ]
     },
     "execution_count": 80,
     "metadata": {},
     "output_type": "execute_result"
    }
   ],
   "source": [
    "matches = matches[['team1','team2','city','toss_decision','toss_winner','venue','winner']]\n",
    "matches.head(2)"
   ]
  },
  {
   "cell_type": "code",
   "execution_count": 81,
   "metadata": {},
   "outputs": [
    {
     "data": {
      "text/html": [
       "<div>\n",
       "<style scoped>\n",
       "    .dataframe tbody tr th:only-of-type {\n",
       "        vertical-align: middle;\n",
       "    }\n",
       "\n",
       "    .dataframe tbody tr th {\n",
       "        vertical-align: top;\n",
       "    }\n",
       "\n",
       "    .dataframe thead th {\n",
       "        text-align: right;\n",
       "    }\n",
       "</style>\n",
       "<table border=\"1\" class=\"dataframe\">\n",
       "  <thead>\n",
       "    <tr style=\"text-align: right;\">\n",
       "      <th></th>\n",
       "      <th>team1</th>\n",
       "      <th>team2</th>\n",
       "      <th>toss_winner</th>\n",
       "      <th>winner</th>\n",
       "    </tr>\n",
       "  </thead>\n",
       "  <tbody>\n",
       "    <tr>\n",
       "      <th>count</th>\n",
       "      <td>756.000000</td>\n",
       "      <td>756.000000</td>\n",
       "      <td>756.000000</td>\n",
       "      <td>756.000000</td>\n",
       "    </tr>\n",
       "    <tr>\n",
       "      <th>mean</th>\n",
       "      <td>5.474868</td>\n",
       "      <td>5.472222</td>\n",
       "      <td>5.330688</td>\n",
       "      <td>5.279101</td>\n",
       "    </tr>\n",
       "    <tr>\n",
       "      <th>std</th>\n",
       "      <td>3.306931</td>\n",
       "      <td>3.274711</td>\n",
       "      <td>3.216540</td>\n",
       "      <td>3.262492</td>\n",
       "    </tr>\n",
       "    <tr>\n",
       "      <th>min</th>\n",
       "      <td>1.000000</td>\n",
       "      <td>1.000000</td>\n",
       "      <td>1.000000</td>\n",
       "      <td>1.000000</td>\n",
       "    </tr>\n",
       "    <tr>\n",
       "      <th>25%</th>\n",
       "      <td>3.000000</td>\n",
       "      <td>3.000000</td>\n",
       "      <td>2.000000</td>\n",
       "      <td>2.000000</td>\n",
       "    </tr>\n",
       "    <tr>\n",
       "      <th>50%</th>\n",
       "      <td>5.000000</td>\n",
       "      <td>5.000000</td>\n",
       "      <td>5.000000</td>\n",
       "      <td>5.000000</td>\n",
       "    </tr>\n",
       "    <tr>\n",
       "      <th>75%</th>\n",
       "      <td>9.000000</td>\n",
       "      <td>8.000000</td>\n",
       "      <td>7.000000</td>\n",
       "      <td>8.000000</td>\n",
       "    </tr>\n",
       "    <tr>\n",
       "      <th>max</th>\n",
       "      <td>13.000000</td>\n",
       "      <td>13.000000</td>\n",
       "      <td>13.000000</td>\n",
       "      <td>14.000000</td>\n",
       "    </tr>\n",
       "  </tbody>\n",
       "</table>\n",
       "</div>"
      ],
      "text/plain": [
       "            team1       team2  toss_winner      winner\n",
       "count  756.000000  756.000000   756.000000  756.000000\n",
       "mean     5.474868    5.472222     5.330688    5.279101\n",
       "std      3.306931    3.274711     3.216540    3.262492\n",
       "min      1.000000    1.000000     1.000000    1.000000\n",
       "25%      3.000000    3.000000     2.000000    2.000000\n",
       "50%      5.000000    5.000000     5.000000    5.000000\n",
       "75%      9.000000    8.000000     7.000000    8.000000\n",
       "max     13.000000   13.000000    13.000000   14.000000"
      ]
     },
     "execution_count": 81,
     "metadata": {},
     "output_type": "execute_result"
    }
   ],
   "source": [
    "df = pd.DataFrame(matches)\n",
    "df.describe()"
   ]
  },
  {
   "cell_type": "code",
   "execution_count": 87,
   "metadata": {
    "scrolled": true
   },
   "outputs": [
    {
     "data": {
      "text/plain": [
       "array(['Hyderabad', 'Pune', 'Rajkot', 'Indore', 'Bangalore', 'Mumbai',\n",
       "       'Kolkata', 'Delhi', 'Chandigarh', 'Kanpur', 'Jaipur', 'Chennai',\n",
       "       'Cape Town', 'Port Elizabeth', 'Durban', 'Centurion',\n",
       "       'East London', 'Johannesburg', 'Kimberley', 'Bloemfontein',\n",
       "       'Ahmedabad', 'Cuttack', 'Nagpur', 'Dharamsala', 'Kochi',\n",
       "       'Visakhapatnam', 'Raipur', 'Ranchi', 'Abu Dhabi', 'Sharjah',\n",
       "       'Dubai', 'Mohali', 'Bengaluru'], dtype=object)"
      ]
     },
     "execution_count": 87,
     "metadata": {},
     "output_type": "execute_result"
    }
   ],
   "source": [
    "\n",
    "df[\"city\"].unique()\n"
   ]
  },
  {
   "cell_type": "code",
   "execution_count": 88,
   "metadata": {
    "scrolled": true
   },
   "outputs": [
    {
     "data": {
      "text/plain": [
       "array(['Rajiv Gandhi International Stadium, Uppal',\n",
       "       'Maharashtra Cricket Association Stadium',\n",
       "       'Saurashtra Cricket Association Stadium', 'Holkar Cricket Stadium',\n",
       "       'M Chinnaswamy Stadium', 'Wankhede Stadium', 'Eden Gardens',\n",
       "       'Feroz Shah Kotla',\n",
       "       'Punjab Cricket Association IS Bindra Stadium, Mohali',\n",
       "       'Green Park', 'Punjab Cricket Association Stadium, Mohali',\n",
       "       'Sawai Mansingh Stadium', 'MA Chidambaram Stadium, Chepauk',\n",
       "       'Dr DY Patil Sports Academy', 'Newlands', \"St George's Park\",\n",
       "       'Kingsmead', 'SuperSport Park', 'Buffalo Park',\n",
       "       'New Wanderers Stadium', 'De Beers Diamond Oval',\n",
       "       'OUTsurance Oval', 'Brabourne Stadium',\n",
       "       'Sardar Patel Stadium, Motera', 'Barabati Stadium',\n",
       "       'Vidarbha Cricket Association Stadium, Jamtha',\n",
       "       'Himachal Pradesh Cricket Association Stadium', 'Nehru Stadium',\n",
       "       'Dr. Y.S. Rajasekhara Reddy ACA-VDCA Cricket Stadium',\n",
       "       'Subrata Roy Sahara Stadium',\n",
       "       'Shaheed Veer Narayan Singh International Stadium',\n",
       "       'JSCA International Stadium Complex', 'Sheikh Zayed Stadium',\n",
       "       'Sharjah Cricket Stadium', 'Dubai International Cricket Stadium',\n",
       "       'M. A. Chidambaram Stadium', 'Feroz Shah Kotla Ground',\n",
       "       'M. Chinnaswamy Stadium', 'Rajiv Gandhi Intl. Cricket Stadium',\n",
       "       'IS Bindra Stadium', 'ACA-VDCA Stadium'], dtype=object)"
      ]
     },
     "execution_count": 88,
     "metadata": {},
     "output_type": "execute_result"
    }
   ],
   "source": [
    "\n",
    "df[\"venue\"].unique()\n"
   ]
  },
  {
   "cell_type": "code",
   "execution_count": 89,
   "metadata": {},
   "outputs": [
    {
     "name": "stdout",
     "output_type": "stream",
     "text": [
      "[ 0  1  2  3  4  0  5  3  1  5  6  4  2  6  7  5  4  7  0  2  0  3  6  5\n",
      "  1  2  6  5  1  4  6  8  1  2  8  0  5  1  7  6  7  4  0  7  4  8  0  8\n",
      "  9  5  7  9  6  1  7  5  4  4  0  4  8  7  5  6 10  0 11  0  8  4 11  5\n",
      "  8  4  6  7  0 10 11  0  8  5 10  4 11  5  7  6 10  4 11  0 10  8  6  5\n",
      "  8  7  5  7 10  0  6  4  6  5 11  8  7 11  4  6 10  0  5  5  5 12 12 12\n",
      " 12 13 14 12 14 12 14 14 13 12 14 13 15 14 14 15 15 16 14 13 17 13 17 16\n",
      " 14 14 15 15 15 16 18 18 13 17 18 15 15 14 14 14 19 13 17 17 19 15 17 14\n",
      " 14 15 15 15 17 17  5  5  8  6 11 20  4  6  7  4  7 21 20  5 21 11  5  4\n",
      "  8  5 20  8  4 20  5  7  5 11  7  6  8 11  5  6  7 22 11 10  6  4  8 22\n",
      "  4  7 10 22  5 11 10 11 23  4  6 23  7  6  5  5  5  5 11  0 24  7  5  6\n",
      " 10  4  8  5  0 10  5 11  0  5  6 24  7  5  6  8  5  6  7  0 10 11  7  5\n",
      " 24  7 10  4 24  6 10 11  5  7  0 11  5 24  0  4  6  5  4  8 10  0  8 10\n",
      " 11  3  4  5 23  3  5 23 11  5  5 23  7  4  6  5  5 11 11 11  6  5 10  4\n",
      " 25 10  1 25  4  7  5 11  8  6  7  1  6  4  5 10  4  8  0 11  8 11  7  5\n",
      " 21 10  1  8  1  7 11  6  7  5 11 21 10  4  1 11  6  8  5  4  7  1  0  5\n",
      " 10  1  6 11 10  8  4  6  7  5 23  7  0 23  1  0 10  1  4 11 11  6  4  0\n",
      "  7 11  1  0 10  5  8  4  1  7  5 11  6 10 11  8  4  1 10  7  0  6  4  7\n",
      "  8 11  4 23  6 11  6 10  5 11 26 10  5  1  0 26 11  1  6  0  4  5 10  4\n",
      " 10  5  0  8  1  7  1  8 27 10  7  5 27 11  5  8  0 23  1  4  0  7  7  6\n",
      "  6 28 29 28 28 30 30 29 28 29 30 29 30 30 28 28 29 29 30 28 30 27  5  7\n",
      "  4 20  7  5  7 21 20  4  7  5 21  4  0 27  4  0 21 20 27  0 20  7  0  6\n",
      "  8  6 27  5  8  4  6  8  5  6  5  5  4  6 11  1 11  6  7  5  4 20  6  1\n",
      " 25  5 25  1 20  4  7 20 25  4  7 20  5 11  7  8  6  4 11  7  5  4  0  8\n",
      "  5 11  6  5  4  5 11  6 26  5 11  0 26  8  5  0  8  5  4  0  5  1 27  6\n",
      "  5  6  8  4  6  2  7  0  5  8  4  0  8  5  2  1  7  0  2  1  8  0  7  5\n",
      "  1  7  0  2  1  4  2  6  7  0  4  8 25  6  8 25  4  0 25  4  6  8 25  6\n",
      " 25  4  9 26 25  9  6 26  4  7  7  4  5 31  6  0 11 10  0 32  5  6 32 31\n",
      "  6  5 10 31  1  6 32  0 10  7  5 32  0  7  1 10 32  1 32  7  6  3  1  0\n",
      "  5  3  0 10  6  7 10  3  7  1  5  3  6  5 32  7 10  0  7  1  5  6  6  5\n",
      " 11  6  5 10  7  6 32  0 31  7  0 11 31 10  5  7 32 11  0 32 10 31 11  5\n",
      " 10  6  5 31  6  0  5 31  0  7  6 10  7  0 32 10 11 32  6 11 10  7  6  0\n",
      " 32 11  5 31  7 32 31  5 11 25 25  0]\n",
      "Index(['Hyderabad', 'Pune', 'Rajkot', 'Indore', 'Bangalore', 'Mumbai',\n",
      "       'Kolkata', 'Delhi', 'Chandigarh', 'Kanpur', 'Jaipur', 'Chennai',\n",
      "       'Cape Town', 'Port Elizabeth', 'Durban', 'Centurion', 'East London',\n",
      "       'Johannesburg', 'Kimberley', 'Bloemfontein', 'Ahmedabad', 'Cuttack',\n",
      "       'Nagpur', 'Dharamsala', 'Kochi', 'Visakhapatnam', 'Raipur', 'Ranchi',\n",
      "       'Abu Dhabi', 'Sharjah', 'Dubai', 'Mohali', 'Bengaluru'],\n",
      "      dtype='object')\n",
      "25\n"
     ]
    }
   ],
   "source": [
    "cat_list=df[\"city\"]\n",
    "encoded_data, mapping_index = pd.Series(cat_list).factorize()\n",
    "print(encoded_data)\n",
    "print(mapping_index)\n",
    "print(mapping_index.get_loc(\"Visakhapatnam\"))"
   ]
  },
  {
   "cell_type": "code",
   "execution_count": 90,
   "metadata": {},
   "outputs": [
    {
     "name": "stdout",
     "output_type": "stream",
     "text": [
      "[ 0  1  2  3  4  0  5  3  1  5  6  4  2  6  7  5  4  7  0  2  0  3  6  5\n",
      "  1  2  6  5  1  4  6  8  1  2  8  0  5  1  7  6  7  4  0  7  4  8  0  8\n",
      "  9  5  7  9  6  1  7  5  4  4  0  4 10  7  5  6 11  0 12  0 10  4 12 13\n",
      " 10  4  6  7  0 11 12  0 10 13 11  4 12 13  7  6 11  4 12  0 11 10  6  5\n",
      " 10  7  5  7 11  0  6  4  6  5 12 10  7 12  4  6 11  0  5  5 13 14 14 14\n",
      " 14 15 16 14 16 14 16 16 15 14 16 15 17 16 16 17 17 18 16 15 19 15 19 18\n",
      " 16 16 17 17 17 18 20 20 15 19 20 17 17 16 16 16 21 15 19 19 21 17 19 16\n",
      " 16 17 17 17 19 19 13 22 10  6 12 23  4  6  7  4  7 24 23 22 24 12 22  4\n",
      " 10 22 23 10  4 23 13  7 22 12  7  6 10 12 22  6  7 25 12 11  6  4 10 25\n",
      "  4  7 11 25 22 12 11 12 26  4  6 26  7  6 13 13 13 13 12  0 27  7 13  6\n",
      " 11  4 10 13  0 11  5 12  0 13  6 27  7  5  6 10  5  6  7  0 11 12  7 13\n",
      " 27  7 11  4 27  6 11 12  5  7  0 12 13 27  0  4  6  5  4 10 11  0 10 11\n",
      " 12  3  4  5 26  3 13 26 12 13  5 26  7  4  6  5  5 12 12 12  6  5 11  4\n",
      " 28 11 29 28  4  7  5 12 10  6  7 29  6  4  5 11  4 10  0 12 10 12  7  5\n",
      " 24 11 29 10 29  7 12  6  7  5 12 24 11  4 29 12  6 10  5  4  7 29  0  5\n",
      " 11 29  6 12 11 10  4  6  7  5 26  7  0 26 29  0 11 29  4 12 12  6  4  0\n",
      "  7 12 29  0 11  5 10  4 29  7  5 12  6 11 12 10  4 29 11  7  0  6  4  7\n",
      " 10 12  4 26  6 12  6 11  5 12 30 11  5 29  0 30 12 29  6  0  4  5 11  4\n",
      " 11  5  0 10 29  7 29 10 31 11  7  5 31 12  5 10  0 26 29  4  0  7  7  6\n",
      "  6 32 33 32 32 34 34 33 32 33 34 33 34 34 32 32 33 33 34 32 34 31  5  7\n",
      "  4 23  7  5  7 24 23  4  7  5 24  4  0 31  4  0 24 23 31  0 23  7  0  6\n",
      " 10  6 31  5 10  4  6 10  5  6 22  5  4  6 12  1 12  6  7  5  4 23  6  1\n",
      " 28  5 28  1 23  4  7 23 28  4  7 23  5 12  7 10  6  4 12  7  5  4  0 10\n",
      " 22 12  6  5  4 22 12  6 30  5 12  0 30 10  5  0 10 22  4  0  5  1 31  6\n",
      "  5  6  8  4  6  2  7  0  5  8  4  0  8  5  2  1  7  0  2  1  8  0  7  5\n",
      "  1  7  0  2  1  4  2  6  7  0  4  8 28  6  8 28  4  0 28  4  6  8 28  6\n",
      " 28  4  9 30 28  9  6 30  4  7  7  4  5  8  6  0 12 11  0  4  5  6  4  8\n",
      "  6  5 11  8  1  6  4  0 11  7  5  4  0  7  1 11  4  1  4  7  6  3  1  0\n",
      "  5  3  0 11  6  7 11  3  7  1  5  3  6  5  4  7 11  0  7  1  5  6  6  5\n",
      " 35  6  5 11 36  6 37 38 39 36 38 35 39 11  5 36 37 35 38 37 11 39 35  5\n",
      " 11  6  5 39  6 38  5 39 38 36  6 11 36 38 37 11 35 37  6 35 11 36  6 38\n",
      " 37 35  5 39 36 37 39  5 35 40 40 38]\n",
      "Index(['Rajiv Gandhi International Stadium, Uppal',\n",
      "       'Maharashtra Cricket Association Stadium',\n",
      "       'Saurashtra Cricket Association Stadium', 'Holkar Cricket Stadium',\n",
      "       'M Chinnaswamy Stadium', 'Wankhede Stadium', 'Eden Gardens',\n",
      "       'Feroz Shah Kotla',\n",
      "       'Punjab Cricket Association IS Bindra Stadium, Mohali', 'Green Park',\n",
      "       'Punjab Cricket Association Stadium, Mohali', 'Sawai Mansingh Stadium',\n",
      "       'MA Chidambaram Stadium, Chepauk', 'Dr DY Patil Sports Academy',\n",
      "       'Newlands', 'St George's Park', 'Kingsmead', 'SuperSport Park',\n",
      "       'Buffalo Park', 'New Wanderers Stadium', 'De Beers Diamond Oval',\n",
      "       'OUTsurance Oval', 'Brabourne Stadium', 'Sardar Patel Stadium, Motera',\n",
      "       'Barabati Stadium', 'Vidarbha Cricket Association Stadium, Jamtha',\n",
      "       'Himachal Pradesh Cricket Association Stadium', 'Nehru Stadium',\n",
      "       'Dr. Y.S. Rajasekhara Reddy ACA-VDCA Cricket Stadium',\n",
      "       'Subrata Roy Sahara Stadium',\n",
      "       'Shaheed Veer Narayan Singh International Stadium',\n",
      "       'JSCA International Stadium Complex', 'Sheikh Zayed Stadium',\n",
      "       'Sharjah Cricket Stadium', 'Dubai International Cricket Stadium',\n",
      "       'M. A. Chidambaram Stadium', 'Feroz Shah Kotla Ground',\n",
      "       'M. Chinnaswamy Stadium', 'Rajiv Gandhi Intl. Cricket Stadium',\n",
      "       'IS Bindra Stadium', 'ACA-VDCA Stadium'],\n",
      "      dtype='object')\n",
      "28\n"
     ]
    }
   ],
   "source": [
    "cat_list1=df[\"venue\"]\n",
    "encoded_data1, mapping_index1 = pd.Series(cat_list1).factorize()\n",
    "print(encoded_data1)\n",
    "print(mapping_index1)\n",
    "print(mapping_index1.get_loc(\"Dr. Y.S. Rajasekhara Reddy ACA-VDCA Cricket Stadium\"))"
   ]
  },
  {
   "cell_type": "code",
   "execution_count": 91,
   "metadata": {},
   "outputs": [
    {
     "name": "stdout",
     "output_type": "stream",
     "text": [
      "Index(['field', 'bat'], dtype='object')\n",
      "0\n"
     ]
    }
   ],
   "source": [
    "cat_list2=df[\"toss_decision\"]\n",
    "encoded_data2, mapping_index2 = pd.Series(cat_list2).factorize()\n",
    "#print(encoded_data2)\n",
    "print(mapping_index2)\n",
    "print(mapping_index2.get_loc(\"field\"))"
   ]
  },
  {
   "cell_type": "code",
   "execution_count": 92,
   "metadata": {},
   "outputs": [
    {
     "data": {
      "text/plain": [
       "<bound method DataFrame.info of      team1  team2           city toss_decision  toss_winner  \\\n",
       "0       10      3      Hyderabad         field            3   \n",
       "1        1     11           Pune         field           11   \n",
       "2        8      2         Rajkot         field            2   \n",
       "3       11      9         Indore         field            9   \n",
       "4        3      7      Bangalore           bat            3   \n",
       "..     ...    ...            ...           ...          ...   \n",
       "751      2      1         Mumbai         field            1   \n",
       "752      5      1        Chennai           bat            5   \n",
       "753     10      4  Visakhapatnam         field            4   \n",
       "754      4      5  Visakhapatnam         field            5   \n",
       "755      1      5      Hyderabad           bat            1   \n",
       "\n",
       "                                         venue  winner  \n",
       "0    Rajiv Gandhi International Stadium, Uppal      10  \n",
       "1      Maharashtra Cricket Association Stadium      11  \n",
       "2       Saurashtra Cricket Association Stadium       2  \n",
       "3                       Holkar Cricket Stadium       9  \n",
       "4                        M Chinnaswamy Stadium       3  \n",
       "..                                         ...     ...  \n",
       "751                           Wankhede Stadium       1  \n",
       "752                  M. A. Chidambaram Stadium       1  \n",
       "753                           ACA-VDCA Stadium       4  \n",
       "754                           ACA-VDCA Stadium       5  \n",
       "755         Rajiv Gandhi Intl. Cricket Stadium       1  \n",
       "\n",
       "[756 rows x 7 columns]>"
      ]
     },
     "execution_count": 92,
     "metadata": {},
     "output_type": "execute_result"
    }
   ],
   "source": [
    "matches.info"
   ]
  },
  {
   "cell_type": "code",
   "execution_count": 94,
   "metadata": {},
   "outputs": [
    {
     "name": "stdout",
     "output_type": "stream",
     "text": [
      "No of toss winners by each team\n",
      "MI -> 98\n",
      "KKR -> 92\n",
      "CSK -> 89\n",
      "KXIP -> 81\n",
      "RCB -> 81\n",
      "DD -> 80\n",
      "RR -> 80\n",
      "DC -> 53\n",
      "SRH -> 46\n",
      "PW -> 20\n",
      "GL -> 15\n",
      "RPS -> 13\n",
      "KTK -> 8\n",
      "No of match winners by each team\n",
      "MI -> 109\n",
      "CSK -> 100\n",
      "KKR -> 92\n",
      "RCB -> 84\n",
      "KXIP -> 82\n",
      "RR -> 75\n",
      "DD -> 67\n",
      "SRH -> 58\n",
      "DC -> 39\n",
      "RPS -> 15\n",
      "GL -> 13\n",
      "PW -> 12\n",
      "KTK -> 6\n",
      "Deccan Chargers -> 4\n"
     ]
    }
   ],
   "source": [
    "#Find some stats on the match winners and toss winners\n",
    "temp1=df['toss_winner'].value_counts(sort=True)\n",
    "temp2=df['winner'].value_counts(sort=True)\n",
    "#Mumbai won most toss and also most matches\n",
    "print('No of toss winners by each team')\n",
    "for idx, val in temp1.iteritems():\n",
    "   print('{} -> {}'.format(list(dicVal.keys())[list(dicVal.values()).index(idx)],val))\n",
    "print('No of match winners by each team')\n",
    "for idx, val in temp2.iteritems():\n",
    "   print('{} -> {}'.format(list(dicVal.keys())[list(dicVal.values()).index(idx)],val))"
   ]
  },
  {
   "cell_type": "code",
   "execution_count": 95,
   "metadata": {},
   "outputs": [
    {
     "data": {
      "text/plain": [
       "<matplotlib.axes._subplots.AxesSubplot at 0x1edce464c10>"
      ]
     },
     "execution_count": 95,
     "metadata": {},
     "output_type": "execute_result"
    },
    {
     "data": {
      "image/png": "[encoded data removed]",
      "text/plain": [
       "<Figure size 432x288 with 1 Axes>"
      ]
     },
     "metadata": {
      "needs_background": "light"
     },
     "output_type": "display_data"
    }
   ],
   "source": [
    "df['toss_winner'].hist(bins=50)"
   ]
  },
  {
   "cell_type": "code",
   "execution_count": 96,
   "metadata": {},
   "outputs": [
    {
     "data": {
      "text/plain": [
       "<matplotlib.axes._subplots.AxesSubplot at 0x1edcd617820>"
      ]
     },
     "execution_count": 96,
     "metadata": {},
     "output_type": "execute_result"
    },
    {
     "data": {
      "image/png": "[encoded data removed]",
      "text/plain": [
       "<Figure size 432x288 with 1 Axes>"
      ]
     },
     "metadata": {
      "needs_background": "light"
     },
     "output_type": "display_data"
    }
   ],
   "source": [
    "#shows that Mumbai won most matches followed by Chennai\n",
    "df['winner'].hist(bins=50)"
   ]
  },
  {
   "cell_type": "code",
   "execution_count": 97,
   "metadata": {},
   "outputs": [
    {
     "data": {
      "text/plain": [
       "Text(0.5, 1.0, 'Match winners')"
      ]
     },
     "execution_count": 97,
     "metadata": {},
     "output_type": "execute_result"
    },
    {
     "data": {
      "image/png": "[encoded data removed]",
      "text/plain": [
       "<Figure size 576x288 with 2 Axes>"
      ]
     },
     "metadata": {
      "needs_background": "light"
     },
     "output_type": "display_data"
    }
   ],
   "source": [
    "import matplotlib.pyplot as plt\n",
    "fig = plt.figure(figsize=(8,4))\n",
    "ax1 = fig.add_subplot(121)\n",
    "ax1.set_xlabel('toss_winner')\n",
    "ax1.set_ylabel('Count of toss winners')\n",
    "ax1.set_title(\"toss winners\")\n",
    "temp1.plot(kind='bar')\n",
    "\n",
    "ax2 = fig.add_subplot(122)\n",
    "temp2.plot(kind = 'bar')\n",
    "ax2.set_xlabel('winner')\n",
    "ax2.set_ylabel('Count of match winners')\n",
    "ax2.set_title(\"Match winners\")"
   ]
  },
  {
   "cell_type": "code",
   "execution_count": 98,
   "metadata": {},
   "outputs": [
    {
     "data": {
      "text/plain": [
       "team1            0\n",
       "team2            0\n",
       "city             0\n",
       "toss_decision    0\n",
       "toss_winner      0\n",
       "venue            0\n",
       "winner           0\n",
       "dtype: int64"
      ]
     },
     "execution_count": 98,
     "metadata": {},
     "output_type": "execute_result"
    }
   ],
   "source": [
    " df.apply(lambda x: sum(x.isnull()),axis=0) \n",
    "    #find the null values in every column"
   ]
  },
  {
   "cell_type": "code",
   "execution_count": 99,
   "metadata": {},
   "outputs": [
    {
     "data": {
      "text/html": [
       "<div>\n",
       "<style scoped>\n",
       "    .dataframe tbody tr th:only-of-type {\n",
       "        vertical-align: middle;\n",
       "    }\n",
       "\n",
       "    .dataframe tbody tr th {\n",
       "        vertical-align: top;\n",
       "    }\n",
       "\n",
       "    .dataframe thead th {\n",
       "        text-align: right;\n",
       "    }\n",
       "</style>\n",
       "<table border=\"1\" class=\"dataframe\">\n",
       "  <thead>\n",
       "    <tr style=\"text-align: right;\">\n",
       "      <th></th>\n",
       "      <th>team1</th>\n",
       "      <th>team2</th>\n",
       "      <th>city</th>\n",
       "      <th>toss_decision</th>\n",
       "      <th>toss_winner</th>\n",
       "      <th>venue</th>\n",
       "      <th>winner</th>\n",
       "    </tr>\n",
       "  </thead>\n",
       "  <tbody>\n",
       "  </tbody>\n",
       "</table>\n",
       "</div>"
      ],
      "text/plain": [
       "Empty DataFrame\n",
       "Columns: [team1, team2, city, toss_decision, toss_winner, venue, winner]\n",
       "Index: []"
      ]
     },
     "execution_count": 99,
     "metadata": {},
     "output_type": "execute_result"
    }
   ],
   "source": [
    "#Find cities which are null\n",
    "df[pd.isnull(df['city'])]"
   ]
  },
  {
   "cell_type": "code",
   "execution_count": 100,
   "metadata": {},
   "outputs": [
    {
     "data": {
      "text/html": [
       "<div>\n",
       "<style scoped>\n",
       "    .dataframe tbody tr th:only-of-type {\n",
       "        vertical-align: middle;\n",
       "    }\n",
       "\n",
       "    .dataframe tbody tr th {\n",
       "        vertical-align: top;\n",
       "    }\n",
       "\n",
       "    .dataframe thead th {\n",
       "        text-align: right;\n",
       "    }\n",
       "</style>\n",
       "<table border=\"1\" class=\"dataframe\">\n",
       "  <thead>\n",
       "    <tr style=\"text-align: right;\">\n",
       "      <th></th>\n",
       "      <th>team1</th>\n",
       "      <th>team2</th>\n",
       "      <th>city</th>\n",
       "      <th>toss_decision</th>\n",
       "      <th>toss_winner</th>\n",
       "      <th>venue</th>\n",
       "      <th>winner</th>\n",
       "    </tr>\n",
       "  </thead>\n",
       "  <tbody>\n",
       "    <tr>\n",
       "      <th>0</th>\n",
       "      <td>10</td>\n",
       "      <td>3</td>\n",
       "      <td>15</td>\n",
       "      <td>1</td>\n",
       "      <td>3</td>\n",
       "      <td>28</td>\n",
       "      <td>10</td>\n",
       "    </tr>\n",
       "    <tr>\n",
       "      <th>1</th>\n",
       "      <td>1</td>\n",
       "      <td>11</td>\n",
       "      <td>27</td>\n",
       "      <td>1</td>\n",
       "      <td>11</td>\n",
       "      <td>21</td>\n",
       "      <td>11</td>\n",
       "    </tr>\n",
       "    <tr>\n",
       "      <th>2</th>\n",
       "      <td>8</td>\n",
       "      <td>2</td>\n",
       "      <td>29</td>\n",
       "      <td>1</td>\n",
       "      <td>2</td>\n",
       "      <td>31</td>\n",
       "      <td>2</td>\n",
       "    </tr>\n",
       "    <tr>\n",
       "      <th>3</th>\n",
       "      <td>11</td>\n",
       "      <td>9</td>\n",
       "      <td>16</td>\n",
       "      <td>1</td>\n",
       "      <td>9</td>\n",
       "      <td>13</td>\n",
       "      <td>9</td>\n",
       "    </tr>\n",
       "    <tr>\n",
       "      <th>4</th>\n",
       "      <td>3</td>\n",
       "      <td>7</td>\n",
       "      <td>2</td>\n",
       "      <td>0</td>\n",
       "      <td>3</td>\n",
       "      <td>17</td>\n",
       "      <td>3</td>\n",
       "    </tr>\n",
       "    <tr>\n",
       "      <th>...</th>\n",
       "      <td>...</td>\n",
       "      <td>...</td>\n",
       "      <td>...</td>\n",
       "      <td>...</td>\n",
       "      <td>...</td>\n",
       "      <td>...</td>\n",
       "      <td>...</td>\n",
       "    </tr>\n",
       "    <tr>\n",
       "      <th>751</th>\n",
       "      <td>2</td>\n",
       "      <td>1</td>\n",
       "      <td>24</td>\n",
       "      <td>1</td>\n",
       "      <td>1</td>\n",
       "      <td>40</td>\n",
       "      <td>1</td>\n",
       "    </tr>\n",
       "    <tr>\n",
       "      <th>752</th>\n",
       "      <td>5</td>\n",
       "      <td>1</td>\n",
       "      <td>8</td>\n",
       "      <td>0</td>\n",
       "      <td>5</td>\n",
       "      <td>18</td>\n",
       "      <td>1</td>\n",
       "    </tr>\n",
       "    <tr>\n",
       "      <th>753</th>\n",
       "      <td>10</td>\n",
       "      <td>4</td>\n",
       "      <td>32</td>\n",
       "      <td>1</td>\n",
       "      <td>4</td>\n",
       "      <td>0</td>\n",
       "      <td>4</td>\n",
       "    </tr>\n",
       "    <tr>\n",
       "      <th>754</th>\n",
       "      <td>4</td>\n",
       "      <td>5</td>\n",
       "      <td>32</td>\n",
       "      <td>1</td>\n",
       "      <td>5</td>\n",
       "      <td>0</td>\n",
       "      <td>5</td>\n",
       "    </tr>\n",
       "    <tr>\n",
       "      <th>755</th>\n",
       "      <td>1</td>\n",
       "      <td>5</td>\n",
       "      <td>15</td>\n",
       "      <td>0</td>\n",
       "      <td>1</td>\n",
       "      <td>29</td>\n",
       "      <td>1</td>\n",
       "    </tr>\n",
       "  </tbody>\n",
       "</table>\n",
       "<p>756 rows × 7 columns</p>\n",
       "</div>"
      ],
      "text/plain": [
       "     team1  team2  city  toss_decision  toss_winner  venue  winner\n",
       "0       10      3    15              1            3     28      10\n",
       "1        1     11    27              1           11     21      11\n",
       "2        8      2    29              1            2     31       2\n",
       "3       11      9    16              1            9     13       9\n",
       "4        3      7     2              0            3     17       3\n",
       "..     ...    ...   ...            ...          ...    ...     ...\n",
       "751      2      1    24              1            1     40       1\n",
       "752      5      1     8              0            5     18       1\n",
       "753     10      4    32              1            4      0       4\n",
       "754      4      5    32              1            5      0       5\n",
       "755      1      5    15              0            1     29       1\n",
       "\n",
       "[756 rows x 7 columns]"
      ]
     },
     "execution_count": 100,
     "metadata": {},
     "output_type": "execute_result"
    }
   ],
   "source": [
    "#building predictive model , convert categorical to numerical data\n",
    "from sklearn.preprocessing import LabelEncoder\n",
    "var_mod = ['city','toss_decision','venue']\n",
    "le = LabelEncoder()\n",
    "for i in var_mod:\n",
    "    df[i] = le.fit_transform(df[i])\n",
    "df "
   ]
  },
  {
   "cell_type": "code",
   "execution_count": 101,
   "metadata": {},
   "outputs": [
    {
     "data": {
      "text/html": [
       "<div>\n",
       "<style scoped>\n",
       "    .dataframe tbody tr th:only-of-type {\n",
       "        vertical-align: middle;\n",
       "    }\n",
       "\n",
       "    .dataframe tbody tr th {\n",
       "        vertical-align: top;\n",
       "    }\n",
       "\n",
       "    .dataframe thead th {\n",
       "        text-align: right;\n",
       "    }\n",
       "</style>\n",
       "<table border=\"1\" class=\"dataframe\">\n",
       "  <thead>\n",
       "    <tr style=\"text-align: right;\">\n",
       "      <th></th>\n",
       "      <th>team1</th>\n",
       "      <th>team2</th>\n",
       "      <th>city</th>\n",
       "      <th>toss_decision</th>\n",
       "      <th>toss_winner</th>\n",
       "      <th>venue</th>\n",
       "      <th>winner</th>\n",
       "    </tr>\n",
       "  </thead>\n",
       "  <tbody>\n",
       "    <tr>\n",
       "      <th>0</th>\n",
       "      <td>10</td>\n",
       "      <td>3</td>\n",
       "      <td>15</td>\n",
       "      <td>1</td>\n",
       "      <td>3</td>\n",
       "      <td>28</td>\n",
       "      <td>10</td>\n",
       "    </tr>\n",
       "    <tr>\n",
       "      <th>1</th>\n",
       "      <td>1</td>\n",
       "      <td>11</td>\n",
       "      <td>27</td>\n",
       "      <td>1</td>\n",
       "      <td>11</td>\n",
       "      <td>21</td>\n",
       "      <td>11</td>\n",
       "    </tr>\n",
       "    <tr>\n",
       "      <th>2</th>\n",
       "      <td>8</td>\n",
       "      <td>2</td>\n",
       "      <td>29</td>\n",
       "      <td>1</td>\n",
       "      <td>2</td>\n",
       "      <td>31</td>\n",
       "      <td>2</td>\n",
       "    </tr>\n",
       "    <tr>\n",
       "      <th>3</th>\n",
       "      <td>11</td>\n",
       "      <td>9</td>\n",
       "      <td>16</td>\n",
       "      <td>1</td>\n",
       "      <td>9</td>\n",
       "      <td>13</td>\n",
       "      <td>9</td>\n",
       "    </tr>\n",
       "    <tr>\n",
       "      <th>4</th>\n",
       "      <td>3</td>\n",
       "      <td>7</td>\n",
       "      <td>2</td>\n",
       "      <td>0</td>\n",
       "      <td>3</td>\n",
       "      <td>17</td>\n",
       "      <td>3</td>\n",
       "    </tr>\n",
       "    <tr>\n",
       "      <th>5</th>\n",
       "      <td>8</td>\n",
       "      <td>10</td>\n",
       "      <td>15</td>\n",
       "      <td>1</td>\n",
       "      <td>10</td>\n",
       "      <td>28</td>\n",
       "      <td>10</td>\n",
       "    </tr>\n",
       "    <tr>\n",
       "      <th>6</th>\n",
       "      <td>2</td>\n",
       "      <td>1</td>\n",
       "      <td>24</td>\n",
       "      <td>1</td>\n",
       "      <td>1</td>\n",
       "      <td>40</td>\n",
       "      <td>1</td>\n",
       "    </tr>\n",
       "    <tr>\n",
       "      <th>7</th>\n",
       "      <td>3</td>\n",
       "      <td>9</td>\n",
       "      <td>16</td>\n",
       "      <td>0</td>\n",
       "      <td>3</td>\n",
       "      <td>13</td>\n",
       "      <td>9</td>\n",
       "    </tr>\n",
       "    <tr>\n",
       "      <th>8</th>\n",
       "      <td>7</td>\n",
       "      <td>11</td>\n",
       "      <td>27</td>\n",
       "      <td>1</td>\n",
       "      <td>11</td>\n",
       "      <td>21</td>\n",
       "      <td>7</td>\n",
       "    </tr>\n",
       "    <tr>\n",
       "      <th>9</th>\n",
       "      <td>10</td>\n",
       "      <td>1</td>\n",
       "      <td>24</td>\n",
       "      <td>1</td>\n",
       "      <td>1</td>\n",
       "      <td>40</td>\n",
       "      <td>1</td>\n",
       "    </tr>\n",
       "  </tbody>\n",
       "</table>\n",
       "</div>"
      ],
      "text/plain": [
       "   team1  team2  city  toss_decision  toss_winner  venue  winner\n",
       "0     10      3    15              1            3     28      10\n",
       "1      1     11    27              1           11     21      11\n",
       "2      8      2    29              1            2     31       2\n",
       "3     11      9    16              1            9     13       9\n",
       "4      3      7     2              0            3     17       3\n",
       "5      8     10    15              1           10     28      10\n",
       "6      2      1    24              1            1     40       1\n",
       "7      3      9    16              0            3     13       9\n",
       "8      7     11    27              1           11     21       7\n",
       "9     10      1    24              1            1     40       1"
      ]
     },
     "execution_count": 101,
     "metadata": {},
     "output_type": "execute_result"
    }
   ],
   "source": [
    "df.head(10)"
   ]
  },
  {
   "cell_type": "code",
   "execution_count": 109,
   "metadata": {},
   "outputs": [],
   "source": [
    "#Import models from scikit learn module:\n",
    "from sklearn.linear_model import LogisticRegression\n",
    "from sklearn.model_selection import KFold   #For K-fold cross validation\n",
    "from sklearn.ensemble import RandomForestClassifier\n",
    "from sklearn.tree import DecisionTreeClassifier, export_graphviz\n",
    "from sklearn import metrics\n",
    "from sklearn.model_selection import cross_val_score\n",
    "#Generic function for making a classification model and accessing performance:\n",
    "def classification_model(model, data, predictors, outcome):\n",
    "      model.fit(data[predictors],data[outcome])\n",
    "      predictions = model.predict(data[predictors])\n",
    "      print(predictions)\n",
    "      accuracy = metrics.accuracy_score(predictions,data[outcome])\n",
    "      print('Accuracy : %s' % '{0:.3%}'.format(accuracy))\n",
    "\n",
    "  "
   ]
  },
  {
   "cell_type": "markdown",
   "metadata": {},
   "source": [
    "# LOGISTIC REGRESSION "
   ]
  },
  {
   "cell_type": "code",
   "execution_count": 110,
   "metadata": {},
   "outputs": [
    {
     "name": "stderr",
     "output_type": "stream",
     "text": [
      "C:\\Users\\ashok\\anaconda3\\lib\\site-packages\\sklearn\\utils\\validation.py:73: DataConversionWarning: A column-vector y was passed when a 1d array was expected. Please change the shape of y to (n_samples, ), for example using ravel().\n",
      "  return f(**kwargs)\n",
      "C:\\Users\\ashok\\anaconda3\\lib\\site-packages\\sklearn\\linear_model\\_logistic.py:762: ConvergenceWarning: lbfgs failed to converge (status=1):\n",
      "STOP: TOTAL NO. of ITERATIONS REACHED LIMIT.\n",
      "\n",
      "Increase the number of iterations (max_iter) or scale the data as shown in:\n",
      "    https://scikit-learn.org/stable/modules/preprocessing.html\n",
      "Please also refer to the documentation for alternative solver options:\n",
      "    https://scikit-learn.org/stable/modules/linear_model.html#logistic-regression\n",
      "  n_iter_i = _check_optimize_result(\n"
     ]
    },
    {
     "name": "stdout",
     "output_type": "stream",
     "text": [
      "[ 9  1  1  9  5  9  1  5  9  1  2  3  9  2 10  1  9  5  9  1 10  2  2  1\n",
      " 10  9  2  1  2  3  2  9  2  1  9  9  1  9  9  2  9  9  9  3  3  9  5  9\n",
      "  9  1 10  9  1 10  5  1  9  3  5  3  9  7  1  2  6  5  3  3  3  3  5  2\n",
      " 10  5  1  2  6  1  5  1  6  2  5  3  3  2  9  1  1  3  9  1  9  5  5  1\n",
      "  9  3  1 10  1  1  2  3  2  1  5  3  3  5  3  2  1  5  6  6  2  3  5  9\n",
      "  5  1  2  5  5  3  5  1  1  5  3  1  6  1  5  6  6  2  5  1  5  5  1  5\n",
      "  9  5  6  3  6  5  2  5  1  1  5  1  6  3  5  5  9  1  1  9  5  6  5  2\n",
      "  7  3  6  6  1  1  2  2  9  2  5  9  5  2  3  3  5  3  6  2  7  9  2  3\n",
      "  9  2  6  5  3  6  2  5  2  5  5  2  6  5  2  7  5  1  5  6  5  3  5  1\n",
      "  3 10  1  1  2  5  5  5  9  3  2  9  5  1  1  2  2  2  5  3  5  5 10  2\n",
      "  6  3  9 10  1  1  6  5  6 10  2  9  5  6  2  9  1  2  9  1  9  9  2  7\n",
      "  9  3  1  9 10  2  9  5  1  9  1  5  8  9  3  3  2  1  5 10  6 10  3  1\n",
      "  5  9  3  1  9  9  7  5 10  2  1  3 10  3  1  1  1  3  5  3  2  9  9  3\n",
      "  2  1 10  2  3  3  1  5  9  2  5 10  2  5  1  5  5  6  5  9  9  5  9  6\n",
      "  2  1 10  6 10  2  5  1  5  1  5 14  6  3 10  5  7 10  1  3  5  6  9  1\n",
      "  6  6  1  9 10  5  3  2 10  1  9  3  5  9 10  1  1  1  3  3  5  2  3  9\n",
      "  7  5 10  5  1  1  9  3 10 10  6  3  7  9 10  9  3 10  1  5 10  2  3  5\n",
      "  9  5  9  9  1  5  2  6  1  3  9  1  6 10  5  1 10 10  2 10  3  1 10  5\n",
      "  6  1  9  9 10  3  6  9  1  6  9  6  2  5  1  3  6  2 10  3  5  5 10  2\n",
      "  2  1  1  6  9  2  5  6  6  9  3  1 10  5  3  9  1  6  3  6  2  1  6  9\n",
      "  9  3  9  1  5  9  9  9  9  1  2  5  6  2  3  9  2  9  1  6  5  9  5  2\n",
      "  3  2  2  1  9  3  2  9  1  2  2  6  9  1  3  5 10  2  9  1  3  5  2  5\n",
      "  2  1  7  2  6  3  2  9  2  3  2  3  6 10  2  9  5  3  3  9  1  3  9  5\n",
      "  2  5  2  1  3  7  5  2  6  1  5 10  5  9  1  6  6  2  3  6  1  1  2  2\n",
      "  6  2  9  3  1 10  9  6  1 10  3  3  9  1  9  5  2  9  5  2  3  9  9  1\n",
      " 10  2  9  9  2  3  9  2  9  9  9  9  2  2  3 10  3  9  2  3  5 10  2  2\n",
      "  7  3  2  9 10  2  2  1  3  9  9  5  1  9  2  9  3  6  3  9  1  2  3  9\n",
      "  2  1  1 10  2  2  3  9  1  9  1  3  9  2  1  6  3  2  3  9  2  2  1 10\n",
      "  1  9  9  6  1 10  5  3  2  2  1  2  2  1  3  9  5  6  5  2  6  2  2  6\n",
      "  3  2  1  9  5  2  3 10  2  3  9  3  2  1  1  9  3 10  3  3  1  9  3  1\n",
      "  6  2  1  2  2  6  1  9 10  5  2  1  9  3  3  1  9  3  2  3  9  5  1  9\n",
      "  3  3  6  2  5  9  7  1  5  2  2  1]\n",
      "Accuracy : 30.159%\n"
     ]
    }
   ],
   "source": [
    "#logistic Regression\n",
    "outcome_var=['winner']\n",
    "predictor_var = ['team1', 'team2', 'venue', 'toss_winner','city','toss_decision']\n",
    "model =LogisticRegression()\n",
    "classification_model(model, df,predictor_var,outcome_var)"
   ]
  },
  {
   "cell_type": "markdown",
   "metadata": {},
   "source": [
    "# Gaussian Naive bayes algorithm"
   ]
  },
  {
   "cell_type": "code",
   "execution_count": 111,
   "metadata": {},
   "outputs": [
    {
     "name": "stdout",
     "output_type": "stream",
     "text": [
      "[12 12 12 12  5 12  1  5 12 12 12  3 12 12  7 12  3  5 12 12 10 12 12 12\n",
      " 12 12 12 12 12  8 12 12 12  1 12 12  1 12 12 12 12  3 12 12  3 12  1 12\n",
      " 12 12  7 12 12 12  5 12  3  3  1  3  5  5  1  2  6  5 12 12 12  3  5 12\n",
      "  5  5  2 12 12  5  5  5  6 12  6  3 12 12 12  2 12  3 12  1 12  5  2 12\n",
      " 12 12  1  7 12 12  2  3 12 12  5 12 12  5  3  2 12  5 12  6 12  3  5  9\n",
      "  3  1 12  5  5  3  5  2  1  6 12  1  6  2  2  6  6  2  5  1 12  1  1  5\n",
      " 12  5  1  6  6  2 12  5  1 12  5  1  6 12  5  5  9  1 12 12  6  5  5 12\n",
      "  5  6  1  6 12 12 12  2 12 12  5  6  3  2 12  3  5 12  5  2  5 12  2  3\n",
      " 12 12  5  5  3  6 12  5 12  5  5  2  6  5  2  2  5  6  5  6  2  3  1  1\n",
      "  3  7 12 12  2  5  6  5 12  3  2 12  5  2  2  2  2  2  5 12 10  2 13  2\n",
      "  6  3 12 13 12 12 12  5 12 12 12 12  5 13 12 12 12 12 12 12 12 12 12 13\n",
      " 12 12 12 12 10 12 12  5 12 12 12  5 12 12 12  3  2 12  9 10 12 10 12 12\n",
      "  5 12  3  1 12 12 12  7 10 12  1 12 10  3 12 12  1  3  5 12 12 12 12  3\n",
      " 12 12 13  2  3 12 12  5 12  2  5 10 12  5 12  5 10  6  5 12 12  5 12  1\n",
      " 12 12 13  3 10 12  6  2  5 12  5  4  6  3  1  5  1  5 12  3  5 13 12 12\n",
      " 12 12  2 12 10  5  3 12  7  1 12 12  5 12  1 12  1  1  3 12  5 12  3 12\n",
      "  5  1 13  5 12  1 12  3 13  7  1 12  2 12 10 12  3 12  1  5 10  2  3  2\n",
      " 12  5 12 12  2  9  2 10  1 12 12 12  1 10  1  1  5  1  2 10  3  1 13  9\n",
      "  6  1 12 12  1 12 13 12 12 12 12 13 12  5 12 12 10 12 13  3  1  2  7  2\n",
      "  2  1 12  5  9 12  2 12  6 12 12  1  7  2  6  3  1 13 12  5 12  2  1 12\n",
      "  3  3 12 12  5 12  9  3 12 12 12  5 10  5  3 12  2  6  5 10  3 12  5 12\n",
      " 12 12 12 12 12  3 12 12 12 12 12 12  3 12 12 12  5 12 12 12 12  3 12 10\n",
      " 12  1  7 12  5  3 12  9 12  3 12  3  1  5 12 12  2  3 12 12 12  3 12  1\n",
      " 12  5 12  1  3 12  5  2 13  1  5 10  6 12 12 10  6  2  3 10  1  5 12 12\n",
      "  1 12 12 12 12 13 12 10 12 10  3 12 12 12 12 12 12 12  1 12 12 12 12  1\n",
      " 12 12 12 12 12  3 12 12 12 12  3 12 12 12 12 13  3 12  1  8 13 10 12 12\n",
      " 12  3 12 12 13 12 12 12  3 12 12  9 12 12 12 12 12 12 12  3 12 12  3 12\n",
      " 12 12 12 10 12 12  3 12  1 12 12  3 12 12 12 10  3 12  3 12 12 12 12 10\n",
      " 12 12 12  6 12  7  6 12 12 12 12 12 12 12 12 12  6 10  2 12 12 12 12 12\n",
      " 12 12 12 12  5 12  3  5 12 12 12 12 12 12 12 12  3  5 12  3 12 12 12 12\n",
      " 12 12 12 12 12 12 12 12  5  2 12 12 12 12  3 12 12  3 12 12 12  5 12 12\n",
      "  3 12  1 12  5  3 12  1  5 12 12  1]\n",
      "Accuracy : 19.444%\n"
     ]
    },
    {
     "name": "stderr",
     "output_type": "stream",
     "text": [
      "C:\\Users\\ashok\\anaconda3\\lib\\site-packages\\sklearn\\utils\\validation.py:73: DataConversionWarning: A column-vector y was passed when a 1d array was expected. Please change the shape of y to (n_samples, ), for example using ravel().\n",
      "  return f(**kwargs)\n"
     ]
    }
   ],
   "source": [
    "#Gaussian NAive bayes algorithm\n",
    "from sklearn.naive_bayes import GaussianNB\n",
    "outcome_var=['winner']\n",
    "predictor_var = ['team1', 'team2', 'venue', 'toss_winner','city','toss_decision']\n",
    "model = GaussianNB() \n",
    "classification_model(model, df,predictor_var,outcome_var)"
   ]
  },
  {
   "cell_type": "markdown",
   "metadata": {},
   "source": [
    "# Applying KNN algorithm"
   ]
  },
  {
   "cell_type": "code",
   "execution_count": 112,
   "metadata": {},
   "outputs": [
    {
     "name": "stdout",
     "output_type": "stream",
     "text": [
      "[10  3  3  9  3 10  1  9 11  1  2  1  9  2  9  9  3  2 10  3 10  1  8  1\n",
      " 11  9  2 11  2  3  2 10  2  1  9 10  1 11  7  2  7  9  9  1  2  8 10  9\n",
      "  7  9 10  7  1 11  4 11  2  1 10  3  5  5  1  2  6  7  5  6  9  6  5  1\n",
      "  9  3  1  3  9  6  5  4  2  1  6  9  5  1  5  2  6  1  5  2  6  9  2  1\n",
      "  9  7  1  9  2  1  5  7  6  9  5  9  1  5  3  2  6  7  6  1  6  1  1  9\n",
      "  4  4  2  4  7  2  3  3  2  7  3  1  5  4  9  5  5  1  3  5  3  2  4  5\n",
      "  5  3  2  5  5  7  9  4  1  4  4  3  1  3  4  3  9  1  4  3  7  4  3  2\n",
      "  3  7  3  2  4  4  1  1  9  2  3  6  3  2  1  3  7  4  6  1  4  5  1  3\n",
      "  9  1  6  1  3  6  1  2  1  5  7  2  2  5  1  2  2  6  1  6  2  3  1  4\n",
      "  3  9  6  4  1  5  6  5  4  1  2  4  4  2  1  3  2  5  2  6  3  1 13  2\n",
      "  6  1  9 13  4  2  1  5  9  4  2  4  4  1  2  9  5  2  9  1  6  5  3  2\n",
      "  4  3  6  3  7  2  6  5  1 10  1  5  1  2  6  9  2  1  3 10  6 10  9  2\n",
      "  5  9  3  1  9  9  2  7  5  2  1  4  7  3  1  5  1  1  5  5  2 11  6  7\n",
      "  1  2  7  1  3  7  1  5  9  2  4  4  2  3  1  6  3  2  7  5  9  5  7  1\n",
      "  2  6  6  1  3  7  9  2  7  1  2  4  6  9  2  5  2  5  1  3  2  6 10  1\n",
      "  5  3  2  5  6  9  1  5  7  1  4  3  6  9  2  4  6  2  1  5  2  2  1 10\n",
      "  5  5  7 10  2  1  9  3 13 10  1  5  2  6  5  9  3  9  6  4 10  5  3  1\n",
      "  9  5  3  9  1  5  2  6  1  5 10  6  1  4 10  7  5  2  2 10  9  1  6  3\n",
      "  6  1  5  9  2  3  1 10  2  6  9  1  2  5  1  9 10  7  6  3 10  4  6  2\n",
      "  5  6  3  5  5  3  3  9  5  9  7  2  6  3  5  6  7  5  3  6 10  5  1  6\n",
      "  3  6  5  1  2  2  6  9 10  5  2  3  1  5  7 10  2  6  5  2  6  9 10  2\n",
      "  9  2  5  1  9  3  2  9  1  2  1  5  2  1  5  5  5  2  6  9  3  6  2  6\n",
      "  6  1 11  2  6  1  7  6 10  3  7  6  1  5  3 10  2  6  5  7  1  3 10  1\n",
      "  6  5  2  1  9  6  1  2  7  1  5 10  6  9  1  2  2  5  3  1  1  5  5  5\n",
      "  1  2  8  3  1  8  7  2  1 10  7 10  9  1  9  3  7 10  7  2  1 11  7  1\n",
      "  7  7 10  9  2  2  9  2 10 10  3  7 10  8  9 11  1 10  1  3  2 10  1  2\n",
      " 11  9  8  7 11  8  2  3  3  2 10  3  5  9  2  5  5  6 10  9  1  2  3  9\n",
      "  2  1  2  9  5  2  3  5  6  7  1  3 10  7  1  6  2  5  1  6  2  1  5 10\n",
      "  1  2 10  6  1 10  6  2  3  5  1  1  2  1  3  5  6  2  1  5  5  6  2  5\n",
      "  5  2  1  6  4  2  1 10  9  4 10  5  9  6  5  4  2  5 10  4  2  9  5  9\n",
      "  5  2  1  2  5  5  1  9 10  1  2  6  4 10  3  3  5  3  6  5  6  4  1 10\n",
      " 14  5  1  2  4  3  9  1  1  4  5  1]\n",
      "Accuracy : 65.344%\n"
     ]
    },
    {
     "name": "stderr",
     "output_type": "stream",
     "text": [
      "<ipython-input-109-4e7825e15126>:10: DataConversionWarning: A column-vector y was passed when a 1d array was expected. Please change the shape of y to (n_samples, ), for example using ravel().\n",
      "  model.fit(data[predictors],data[outcome])\n"
     ]
    }
   ],
   "source": [
    "#applying knn algorithm\n",
    "from sklearn.neighbors import KNeighborsClassifier\n",
    "model = KNeighborsClassifier(n_neighbors=3)\n",
    "classification_model(model, df,predictor_var,outcome_var)"
   ]
  },
  {
   "cell_type": "code",
   "execution_count": 113,
   "metadata": {},
   "outputs": [
    {
     "data": {
      "text/html": [
       "<div>\n",
       "<style scoped>\n",
       "    .dataframe tbody tr th:only-of-type {\n",
       "        vertical-align: middle;\n",
       "    }\n",
       "\n",
       "    .dataframe tbody tr th {\n",
       "        vertical-align: top;\n",
       "    }\n",
       "\n",
       "    .dataframe thead th {\n",
       "        text-align: right;\n",
       "    }\n",
       "</style>\n",
       "<table border=\"1\" class=\"dataframe\">\n",
       "  <thead>\n",
       "    <tr style=\"text-align: right;\">\n",
       "      <th></th>\n",
       "      <th>team1</th>\n",
       "      <th>team2</th>\n",
       "      <th>city</th>\n",
       "      <th>toss_decision</th>\n",
       "      <th>toss_winner</th>\n",
       "      <th>venue</th>\n",
       "      <th>winner</th>\n",
       "    </tr>\n",
       "  </thead>\n",
       "  <tbody>\n",
       "    <tr>\n",
       "      <th>0</th>\n",
       "      <td>10</td>\n",
       "      <td>3</td>\n",
       "      <td>15</td>\n",
       "      <td>1</td>\n",
       "      <td>3</td>\n",
       "      <td>28</td>\n",
       "      <td>10</td>\n",
       "    </tr>\n",
       "    <tr>\n",
       "      <th>1</th>\n",
       "      <td>1</td>\n",
       "      <td>11</td>\n",
       "      <td>27</td>\n",
       "      <td>1</td>\n",
       "      <td>11</td>\n",
       "      <td>21</td>\n",
       "      <td>11</td>\n",
       "    </tr>\n",
       "    <tr>\n",
       "      <th>2</th>\n",
       "      <td>8</td>\n",
       "      <td>2</td>\n",
       "      <td>29</td>\n",
       "      <td>1</td>\n",
       "      <td>2</td>\n",
       "      <td>31</td>\n",
       "      <td>2</td>\n",
       "    </tr>\n",
       "  </tbody>\n",
       "</table>\n",
       "</div>"
      ],
      "text/plain": [
       "   team1  team2  city  toss_decision  toss_winner  venue  winner\n",
       "0     10      3    15              1            3     28      10\n",
       "1      1     11    27              1           11     21      11\n",
       "2      8      2    29              1            2     31       2"
      ]
     },
     "execution_count": 113,
     "metadata": {},
     "output_type": "execute_result"
    }
   ],
   "source": [
    "df.head(3)"
   ]
  },
  {
   "cell_type": "code",
   "execution_count": 114,
   "metadata": {},
   "outputs": [
    {
     "name": "stderr",
     "output_type": "stream",
     "text": [
      "C:\\Users\\ashok\\anaconda3\\lib\\site-packages\\sklearn\\utils\\validation.py:73: DataConversionWarning: A column-vector y was passed when a 1d array was expected. Please change the shape of y to (n_samples, ), for example using ravel().\n",
      "  return f(**kwargs)\n"
     ]
    },
    {
     "name": "stdout",
     "output_type": "stream",
     "text": [
      "[10 11  2  9  3 10  1  9  7  1  2  1  8  2  9  1  3  2 10  3 10  1  8  1\n",
      " 11  9  3 11  2  3  2 10 11  1  9 10  1 11  7 11  7  9 11  1  2  8 10  9\n",
      "  7  9  7 10  1 11  3 11  2  1  1  3  5  6  1  2  6  7  5  6  9  6  5  1\n",
      "  9  5  1  3  9  6  5  3  9  1  6  3  4  1  5  2  6  1  5  2  6  9  2  1\n",
      "  9  7  1  9  6  1  5  3  6  9  5  9  1  5  3  2  6  5  6  5  6  1  3  7\n",
      "  4  5  2  4  7  6  9  4  7  9  4  1  6  3  9  7  5  1  9  6  5  9  3  5\n",
      "  6  7  4  6  5  7  9  5  1  7  4  3  1  7  3  6  9  5  4  9  7  2  3  2\n",
      "  5  7  3  4  3  4  2  1  7  2  4  6  3  2  1  3  5  4  6  3  4  9  1  3\n",
      "  6  1  6  2  3  6  1  2  1  5  7  2  3  5  1  9  7  6  5  6  2  3  1  4\n",
      "  3  9  6  4  1  5  6  5  4  1  2  5  4  1  1  5  3  5  2  6  3  7 13  2\n",
      "  6  1  9 13  4  2 12  5  9  7  2  5  4  1 12  9  1  3  9  1  6  5  3  5\n",
      "  4  2  6  3  7  2  6  5  1 12  2  5  1 12  7  3  2  1  3 13  6 13  9  6\n",
      "  5  9  3  4  9 12  4  9  5  2  6  4 14  3  1  5  1  3  5  5  2 13  6  3\n",
      "  5  2  9  1  3  7  1  5  9  2  4  5  2  6  1  6  3  9  7  5  9  5 13  1\n",
      "  2  6  7  1  4  7  9  2  7  1  2  4  7  3  1  5  2  6  1  3  2  6  9  1\n",
      "  5  3  1  5  6  9  1  5  7  1  9  3  4  9  2  4  6  2  5  5  2  2  1 10\n",
      "  6  1  9 10  2  1  5  3 13 10  1  5  2  6 13  9  3 10  6  5 10  5  3  7\n",
      "  9  5  3  9  1  5  2  6  1  5  7  6  1  5 10  7  5  3  2 10  3  1  6  3\n",
      "  6  1  5  9  2  3  1 10  2  6  9  1 13  5  1  9 10  9  7  3 10  5  6  1\n",
      "  1  2  3  9  6  3  7  9  5  9  5  2 10  5  6  9  7  5  9  6 10  5  1  6\n",
      "  3  6  5  1  2  9 10  9 10  1  2  6  1  5  3 10  2  6  3  2  1  9 10  2\n",
      "  9  3 10  1  9  3  2  9  1  2  5  9  2  1  5  6  5  3  6  9  3  1  2  7\n",
      "  6  1  7  2  6  1  7  9 10  3  7  3  1  5  3 10  2  6  5  7  1  3 10  1\n",
      "  6  5  2  1  3 10  5  2 10  1  5 10  7  9  1  3  5  6  3  1  1  3  5  1\n",
      "  1  2  8  3  1  8  7  2  8  9  3 10  9  1 10  3  7 10  8  2  1 11  7  1\n",
      "  8  7 10  9  1  2  7  2 11 10  3  9 10  8  3 10  1  7  9  3  2 10  1  3\n",
      " 11  3  8  7 11  8  2  3  3 10 10  3  1  9  2 10  5  6 10  3  1  2  6  9\n",
      "  2  1  2  9  5  2  3  5  6  7  1  5 10  7  1  6  2  5  3  6  2  1  5 10\n",
      "  1  9 10  6  1 10  6  2  3  5  1  3  2  1  3  5  6  2  7  5  5  6  2  5\n",
      "  5  2  1  6  5  2  1 10  9  4 10  5  9  6  1 10  2  5  1  4  2  9  5  9\n",
      "  5  4  1  3  5  4  1  9 10  1  2  6  4 10  3  4  5  3  6  1  6  4  1 10\n",
      " 14  5  1  2  4  3  9  1  1  4  5  1]\n",
      "Accuracy : 87.698%\n"
     ]
    }
   ],
   "source": [
    "#Import Library\n",
    "from sklearn import svm\n",
    "#Assumed you have, X (predictor) and Y (target) for training data set and x_test(predictor) of test_dataset\n",
    "# Create SVM classification object \n",
    "model = svm.SVC(kernel='rbf', C=1, gamma=1) \n",
    "outcome_var=['winner']\n",
    "predictor_var = ['team1', 'team2', 'venue', 'toss_winner','city','toss_decision']\n",
    "# there is various option associated with it, like changing kernel, gamma and C value. Will discuss more # about it in next section.Train the model using the training sets and check score\n",
    "classification_model(model, df,predictor_var,outcome_var)"
   ]
  },
  {
   "cell_type": "code",
   "execution_count": 115,
   "metadata": {},
   "outputs": [
    {
     "name": "stderr",
     "output_type": "stream",
     "text": [
      "C:\\Users\\ashok\\anaconda3\\lib\\site-packages\\sklearn\\utils\\validation.py:73: DataConversionWarning: A column-vector y was passed when a 1d array was expected. Please change the shape of y to (n_samples, ), for example using ravel().\n",
      "  return f(**kwargs)\n"
     ]
    },
    {
     "name": "stdout",
     "output_type": "stream",
     "text": [
      "[10 11  2  9  3 10  1  9  7  1  2  1  8  2  9  1 11  2 10  3 10  1  8  1\n",
      " 11  9  3 11  2  8  2 10 11  1  9 10  1 11  7 11  7  9 11  1  2  8 10  9\n",
      "  7  9  7 10  1 11  3 11  2  1  1  3  5  6  1  2  6  7  5  6  9 14  5  1\n",
      "  9  5  1  3  9  6  5  3  2  1  6  3  4  1  5  2  6  1  5  2  6  9  2  1\n",
      "  9  7  1  9  3  1  5  3  6  9  5  9  1  5  4  2  6  5  6  5  6  1  3  7\n",
      "  4  5  2  4  7  6  3  4  7  9  4  1  6  3  9  7  5  1  3  6  5  9  3  5\n",
      "  6  7  4  6  5  7  9  5  1  7  4  3  1  7  3  6  9  5  4  9  7  2  3  2\n",
      "  5  7  3  4  3  4  2  1  7  2  4  6  3  2  1  3  5  4  6  3  4  9  1  3\n",
      "  6  1  6  2  3  6  1  2  1  5  7  2  3  5  1  9  7  6  5  6  2  4  1  4\n",
      "  3  9  6  4  1  5  6  5  4  1  2  5  4  1  1  5  3  5  2  6  3  7 13  2\n",
      "  6  1  9 13  4  2 12  5  9  7  2 12  4  1 12  9  1  3  9  1  6  5  3  5\n",
      "  4  2  6  3  7  2  6  5  1 12  2  5  1 12  7  3  2  1  3 13  6 13  9  3\n",
      "  5  9  3  4  9 12  4  9  5  2  6  4 14  3  1  5  1  3  5  5  2 13  6  3\n",
      "  5  2 13  1  3  7  1  5  9  2  4  5  2  6  1  6  3  2  7  5  3  5 13  9\n",
      "  2  6  7  1  4  7  9  2  7  4  2  4  7  3  1  5  2  6  1  3  2  6  9  1\n",
      "  5  3  1  5  6  9  1  5  7  1  9  3  4  9  2  4  1  2  5  5  2  2  1 10\n",
      "  6  1 13 10  2  1  5  3 13 10  1  5  2  6 13  9  3 10  1  5 10  5  3  7\n",
      "  9  5  3  9  1  5  2  6  1  5  7  6  9  5 10  7  5  3  2 10  3  1  6  3\n",
      "  6  1  5  9  2  3  1 10  2  6  9  1 13  5  1  9 10  9  7  3 10  5  6  1\n",
      "  1  2  3  9  6  3  7  9  5  9  5  2 10  5  6  9  7  5  9  6 10  5  1  6\n",
      "  3  6  5  1  2  9 10  9 10  1  2  6  1  5  3 10  2  6  3  2  6  9 10  2\n",
      "  9  3 10  1  9  3  2  9  1  2  5  9  2  1  5  6  5  3  6  9  3  6  2  7\n",
      "  6  1  7  2  6  1  7  9 10  3  7  3  1  5  3 10  2 14  5  7  1  3 10  1\n",
      "  6  5  2  1  3 10  5  2 10  1  5 10  7  3  1  3  5  6  3  1  1  3  5  1\n",
      " 11  2  8  3  1  8  7  2  8  9  3 10  9  1 10  3  7 10  8  2  1 11  7  1\n",
      "  8  7 10  9  1  2  7  2 11 10 11  9 10  8  3 10  1  7  9  8  2 10  1  3\n",
      " 11  3  8  7 11  8  2  3  3 10 10  3  1  9  2 10  5  6 10  3  1  2  6  9\n",
      "  2  1  2  9  5  2  3  5  6  7  1  5 10  7  1  6  2  5  3  6  2  1  5 10\n",
      "  1  9 10  6  1 10  6  2  3  5  1  3  2  1  3  5  6  2  7  5  5  6  2  5\n",
      "  5  2  4  6  5  2  1 10  9  4 10  5  9  6  1 10  2  5  1  4  2  9  5  9\n",
      "  5  4  1  3  5  4  1  9 10  1  2  6  4 10  3  4  5  3  6  1  6  4  1 10\n",
      " 14  5  1  2  4  3  9  1  1  4  5  1]\n",
      "Accuracy : 87.963%\n"
     ]
    }
   ],
   "source": [
    "#Gradient boost algorithm\n",
    "from sklearn.ensemble import GradientBoostingClassifier\n",
    "model= GradientBoostingClassifier(n_estimators=1000, learning_rate=0.1, max_depth=3, random_state=0)\n",
    "classification_model(model, df,predictor_var,outcome_var)"
   ]
  },
  {
   "cell_type": "code",
   "execution_count": 116,
   "metadata": {},
   "outputs": [
    {
     "name": "stdout",
     "output_type": "stream",
     "text": [
      "[10 11  2  9  3 10  1  9  7  1  2  1  8  2  9  1  3  2 10  3 10  1  8  1\n",
      " 11  9  3 11  2  3  2 10 11  1  9 10  1 11  7 11  7  9 11  1  2  8 10  2\n",
      "  7  9  7 10  1 11  3 11  2  1  1  3  5  6  1  2  6  7  1  6  9  6  5  1\n",
      "  9  5  1  3  9  6  5  3  2  1  6  3  4  1  5  2  6  1  5  2  6  9  2  1\n",
      "  9  7  1  9  3  1  5  3  6  9  5  9  1  5  3  2  6  5  6  5  6  1  3  7\n",
      "  4  5  2  4  7  6  3  4  7  9  4  1  6  3  9  7  5  1  3  6  5  9  3  5\n",
      "  6  7  4  6  5  7  9  5  1  7  4  3  1  7  3  6  9  5  4  9  7  2  3  2\n",
      "  5  7  3  4  3  4  2  1  7  2  4  6  3  2  1  3  5  4  6  3  4  9  1  3\n",
      "  6  1  6  2  3  6  1  2  1  5  7  2  3  5  1  9  7  6  1  6  2  3  1  4\n",
      "  3  9  6  4  1  5  3  5  4  1  2  5  4  1  1  5  3  5  2  6  3  1 13  2\n",
      "  6  1  9 13  4  2 12  5  9  7  2 12  4  1 12  9  1  3  9  1  6  5  3  5\n",
      "  4  2  6  3  7  2  6  5  1 12  2  5  1 12  7  3  2  1  3 13  5 13  9  3\n",
      "  5  9  3  4  9 12  4  9  5  2  6  4 14  3  1  5  1  3  5  1  2 13  6  3\n",
      "  5  2  9  1  3  7  1  5  9  2  4  5  2  6  1  6  3  2  7  5  3  5 13  1\n",
      "  2  6  7  1  4  7  9  2  7  1  2  4  7  3  1  5  2  6  1  3  2  6  9  1\n",
      "  5  3  1  5  6  9  1  5  7  1  9  3  4  9  2  4  1  2  5  5  2  2  1 10\n",
      "  6  1  9 10  2  1  5  3 13 10  1  5  2  6 13  9  3 10  1  5 10  5  3  7\n",
      "  9  5  3  9  1  5  2  6  1  5  7  6  1  5 10  7  5  3  2 10  3  1  6  3\n",
      "  6  1  5  9  2  3  1 10  2  5  9  1 13  5  1  9 10  9  7  3 10  5  6  1\n",
      "  1  2  3  9  6  3  7  9  5  9  5  2 10  5  6  9  7  5  9  6 10  5  1  6\n",
      "  3  6  5  1  2  9 10  9 10  1  2  6  1  5  3 10  2  6  3  2  1  9 10  2\n",
      "  9  3 10  1  9  3  2  9  1  2  5  9  2  1  5  6  5  3  6  9  3  1  2  7\n",
      "  6  1  7  2  6  1  7  9 10  3  7  3  1  5  3 10  2  6  5  7  1  3 10  1\n",
      "  6  5  2  1  3 10  1  2 10  1  5 10  7  3  1  3  5  6  3  1  1  3  5  1\n",
      " 11  2  8  3  1  8  7  2  8  9  3 10  2  1 10  3  7 10  8  2  1 11  7  1\n",
      "  8  7 10  9  1  2  7  2 11 10  3  9 10  8  3 10  1  7  9  3  2 10  1  3\n",
      " 11  3  8  7 11  8  2  3  3 10 10  3  1  9  2 10  5  6 10  3  1  2  6  9\n",
      "  2  1  2  9  5  2  3  5  6  7  1  5 10  7  1  6  2  5  3  6  2  1  5 10\n",
      "  1  9 10  6  1 10  6  2  3  5  1  3  2  1  3  5  3  2  1  5  5  6  2  5\n",
      "  5  2  1  6  5  2  1 10  9  4 10  5  9  6  1 10  2  5  1  4  2  9  5  9\n",
      "  5  4  1  3  5  4  1  9 10  1  2  6  4 10  3  4  5  3  6  1  6  4  1 10\n",
      " 14  5  1  2  4  3  9  1  1  4  5  1]\n",
      "Accuracy : 87.963%\n"
     ]
    }
   ],
   "source": [
    "#Decision tree algorithm\n",
    "from sklearn import tree\n",
    "model = tree.DecisionTreeClassifier(criterion='gini')\n",
    "outcome_var=['winner']\n",
    "predictor_var = ['team1', 'team2', 'venue', 'toss_winner','city','toss_decision']\n",
    "classification_model(model, df,predictor_var,outcome_var)"
   ]
  },
  {
   "cell_type": "code",
   "execution_count": 117,
   "metadata": {},
   "outputs": [
    {
     "name": "stderr",
     "output_type": "stream",
     "text": [
      "<ipython-input-109-4e7825e15126>:10: DataConversionWarning: A column-vector y was passed when a 1d array was expected. Please change the shape of y to (n_samples,), for example using ravel().\n",
      "  model.fit(data[predictors],data[outcome])\n"
     ]
    },
    {
     "name": "stdout",
     "output_type": "stream",
     "text": [
      "[10 11  2  9  3 10  1  9  7  1  2  1  8  2  9  1  3  2 10  3 10  1  8  1\n",
      " 11  9  3 11  2  3  2 10 11  1  9 10  1 11  7 11  7  9 11  1  2  8 10  9\n",
      "  7  9  7 10  1 11  3 11  2  1  1  3  5  6  1  2  6  7  1  6  9  6  5  1\n",
      "  9  5  1  3  9  6  5  3  2  1  6  9  4  1  5  2  6  1  5  2  6  9  2  1\n",
      "  9  7  1  9  3  1  5  7  6  9  5  9  1  5  4  2  6  5  6  5  6  1  3  7\n",
      "  4  5  2  4  7  6  9  4  7  9  4  1  6  3  9  7  5  1  9  6  5  9  3  5\n",
      "  6  7  4  6  5  7  9  5  1  7  4  3  1  7  3  6  9  5  4  9  7  2  3  2\n",
      "  5  7  3  4  3  4  2  1  7  2  4  7  3  2  1  3  5  4  6  3  4  9  1  3\n",
      "  6  1  6  2  3  6  1  2  1  5  7  2  3  5  1  9  7  6  1  6  2  4  9  4\n",
      "  3  9  6  4  1  5  6  5  4  1  2  5  4  1  1  5  3  5  2  6  3  1 13  2\n",
      "  6  1  9 13  4  2 12  5  9  7  2 12  4  1 12  9  5  3  9  1  6  5  3  5\n",
      "  4  2  6  3  7  2  6  5  1 12  2  5  1 12  7  9  2  1  3 13  6 13  9  3\n",
      "  5  9  3  4  9 12  4  9  5  2  6  4 14  3  1  5  1  3  5  1  7 13  6  7\n",
      "  5  2  9  1  3  7  1  5  9  2  4 13  2  6  1  6  3  2  7  5  3  5 13  1\n",
      "  2  6 13  1  4  7  9  2  7  1  2  4  7  9  1  5  2  6  1  3  2  6  9  1\n",
      "  5  3  1  5  6  9  1  5  7  1  9  3  4  9  2  4  6  2  5  5  2  2  1 10\n",
      "  6  1  9 10  2  1  5  3 13 10  1  5  2  6 13  9  3 10  6  5 10  5  3  7\n",
      "  9  5  3  9  1  5  2  6  1  5  7  6  1 13 10  7  5  3  2 10  9  1  6  3\n",
      "  6  1  5  9  2  3  1 10  2  6  9  1 13  5  1  9 10  9 13  3 10  5  6  1\n",
      "  1  2  3  9  6  3  7  9  5  9  5  2 10  5  6  9  7  5  9  6 10  5  1  6\n",
      "  3  6  5  1  2  9 10  9 10  5  2  6  1  5  7 10  2  7  3  2  6  9 10  2\n",
      "  9  3 10  1  9  3  2  9  1  2  5  9  2  1  5  6  5  3  6  9  3  6  2  7\n",
      "  6  1  7  2  6  1  7  9 10  3  7  3  1  5  3 10  2  6  5  7  1  3 10  9\n",
      "  6  5  2  1  9 10  1  2 10  1  5 10  7  3  1  3  5  6  3  1  1  3  5  1\n",
      " 11  2  8  3  1  8  7  2  8  9  7 10  9  1 10  3  7 10  8  2  1 11  7  1\n",
      "  8  7 10  9  1  2  7  2 11 10  3  9 10  8  3 10  1  7  9  3  2 10  1  3\n",
      " 11  9  8  7 11  8  2  3  3 10 10  3  5  9  2 10  5  6 10  3  1  2  6  9\n",
      "  7  1  2  9  5  2  3  5  6  7  1  5 10  7  1  6  2  5  3  6  2  1  5 10\n",
      "  1  9 10  6  1 10  6  2  3  5  1  3  2  1  3  5  6  2  1  5  5  6  2  5\n",
      "  5  2  1  6  5  2  1 10  9  4 10  5  9  6  5 10  2  5  1  4  2  9  5  9\n",
      "  5  4  1  3  5  4  1  9 10  1  2  6  4 10  3  4  5  3  6  1  6  4  1 10\n",
      " 14  5  1  2  4  3  9  1  1  4  5  1]\n",
      "Accuracy : 87.963%\n"
     ]
    }
   ],
   "source": [
    "#Random forest classifier\n",
    "model = RandomForestClassifier(n_estimators=100)\n",
    "outcome_var = ['winner']\n",
    "predictor_var = ['team1', 'team2', 'venue', 'toss_winner','city','toss_decision']\n",
    "classification_model(model, df,predictor_var,outcome_var)"
   ]
  },
  {
   "cell_type": "code",
   "execution_count": 118,
   "metadata": {},
   "outputs": [
    {
     "data": {
      "text/html": [
       "<div>\n",
       "<style scoped>\n",
       "    .dataframe tbody tr th:only-of-type {\n",
       "        vertical-align: middle;\n",
       "    }\n",
       "\n",
       "    .dataframe tbody tr th {\n",
       "        vertical-align: top;\n",
       "    }\n",
       "\n",
       "    .dataframe thead th {\n",
       "        text-align: right;\n",
       "    }\n",
       "</style>\n",
       "<table border=\"1\" class=\"dataframe\">\n",
       "  <thead>\n",
       "    <tr style=\"text-align: right;\">\n",
       "      <th></th>\n",
       "      <th>team1</th>\n",
       "      <th>team2</th>\n",
       "      <th>city</th>\n",
       "      <th>toss_decision</th>\n",
       "      <th>toss_winner</th>\n",
       "      <th>venue</th>\n",
       "      <th>winner</th>\n",
       "    </tr>\n",
       "  </thead>\n",
       "  <tbody>\n",
       "    <tr>\n",
       "      <th>0</th>\n",
       "      <td>10</td>\n",
       "      <td>3</td>\n",
       "      <td>15</td>\n",
       "      <td>1</td>\n",
       "      <td>3</td>\n",
       "      <td>28</td>\n",
       "      <td>10</td>\n",
       "    </tr>\n",
       "    <tr>\n",
       "      <th>1</th>\n",
       "      <td>1</td>\n",
       "      <td>11</td>\n",
       "      <td>27</td>\n",
       "      <td>1</td>\n",
       "      <td>11</td>\n",
       "      <td>21</td>\n",
       "      <td>11</td>\n",
       "    </tr>\n",
       "    <tr>\n",
       "      <th>2</th>\n",
       "      <td>8</td>\n",
       "      <td>2</td>\n",
       "      <td>29</td>\n",
       "      <td>1</td>\n",
       "      <td>2</td>\n",
       "      <td>31</td>\n",
       "      <td>2</td>\n",
       "    </tr>\n",
       "    <tr>\n",
       "      <th>3</th>\n",
       "      <td>11</td>\n",
       "      <td>9</td>\n",
       "      <td>16</td>\n",
       "      <td>1</td>\n",
       "      <td>9</td>\n",
       "      <td>13</td>\n",
       "      <td>9</td>\n",
       "    </tr>\n",
       "    <tr>\n",
       "      <th>4</th>\n",
       "      <td>3</td>\n",
       "      <td>7</td>\n",
       "      <td>2</td>\n",
       "      <td>0</td>\n",
       "      <td>3</td>\n",
       "      <td>17</td>\n",
       "      <td>3</td>\n",
       "    </tr>\n",
       "  </tbody>\n",
       "</table>\n",
       "</div>"
      ],
      "text/plain": [
       "   team1  team2  city  toss_decision  toss_winner  venue  winner\n",
       "0     10      3    15              1            3     28      10\n",
       "1      1     11    27              1           11     21      11\n",
       "2      8      2    29              1            2     31       2\n",
       "3     11      9    16              1            9     13       9\n",
       "4      3      7     2              0            3     17       3"
      ]
     },
     "execution_count": 118,
     "metadata": {},
     "output_type": "execute_result"
    }
   ],
   "source": [
    "df.head()"
   ]
  },
  {
   "cell_type": "code",
   "execution_count": 119,
   "metadata": {
    "scrolled": true
   },
   "outputs": [
    {
     "data": {
      "text/html": [
       "<div>\n",
       "<style scoped>\n",
       "    .dataframe tbody tr th:only-of-type {\n",
       "        vertical-align: middle;\n",
       "    }\n",
       "\n",
       "    .dataframe tbody tr th {\n",
       "        vertical-align: top;\n",
       "    }\n",
       "\n",
       "    .dataframe thead th {\n",
       "        text-align: right;\n",
       "    }\n",
       "</style>\n",
       "<table border=\"1\" class=\"dataframe\">\n",
       "  <thead>\n",
       "    <tr style=\"text-align: right;\">\n",
       "      <th></th>\n",
       "      <th>team1</th>\n",
       "      <th>team2</th>\n",
       "      <th>city</th>\n",
       "      <th>toss_winner</th>\n",
       "      <th>venue</th>\n",
       "      <th>toss_decision</th>\n",
       "      <th>date</th>\n",
       "      <th>winner</th>\n",
       "    </tr>\n",
       "  </thead>\n",
       "  <tbody>\n",
       "    <tr>\n",
       "      <th>0</th>\n",
       "      <td>KXIP</td>\n",
       "      <td>MI</td>\n",
       "      <td>3</td>\n",
       "      <td>MI</td>\n",
       "      <td>3</td>\n",
       "      <td>0</td>\n",
       "      <td>11-Apr</td>\n",
       "      <td>MI</td>\n",
       "    </tr>\n",
       "    <tr>\n",
       "      <th>1</th>\n",
       "      <td>SRH</td>\n",
       "      <td>RR</td>\n",
       "      <td>5</td>\n",
       "      <td>RR</td>\n",
       "      <td>5</td>\n",
       "      <td>0</td>\n",
       "      <td>27-Apr</td>\n",
       "      <td>RR</td>\n",
       "    </tr>\n",
       "    <tr>\n",
       "      <th>2</th>\n",
       "      <td>KKR</td>\n",
       "      <td>MI</td>\n",
       "      <td>3</td>\n",
       "      <td>MI</td>\n",
       "      <td>3</td>\n",
       "      <td>0</td>\n",
       "      <td>5-May</td>\n",
       "      <td>MI</td>\n",
       "    </tr>\n",
       "    <tr>\n",
       "      <th>3</th>\n",
       "      <td>CSK</td>\n",
       "      <td>MI</td>\n",
       "      <td>7</td>\n",
       "      <td>CSK</td>\n",
       "      <td>7</td>\n",
       "      <td>1</td>\n",
       "      <td>7-May</td>\n",
       "      <td>MI</td>\n",
       "    </tr>\n",
       "    <tr>\n",
       "      <th>4</th>\n",
       "      <td>DC</td>\n",
       "      <td>CSK</td>\n",
       "      <td>22</td>\n",
       "      <td>CSK</td>\n",
       "      <td>24</td>\n",
       "      <td>1</td>\n",
       "      <td>10-May</td>\n",
       "      <td>CSK</td>\n",
       "    </tr>\n",
       "  </tbody>\n",
       "</table>\n",
       "</div>"
      ],
      "text/plain": [
       "  team1 team2  city toss_winner  venue  toss_decision    date winner\n",
       "0  KXIP    MI     3          MI      3              0  11-Apr     MI\n",
       "1   SRH    RR     5          RR      5              0  27-Apr     RR\n",
       "2   KKR    MI     3          MI      3              0   5-May     MI\n",
       "3   CSK    MI     7         CSK      7              1   7-May     MI\n",
       "4    DC   CSK    22         CSK     24              1  10-May    CSK"
      ]
     },
     "execution_count": 119,
     "metadata": {},
     "output_type": "execute_result"
    }
   ],
   "source": [
    "test=pd.read_csv(\"test.csv\")\n",
    "test.head()"
   ]
  },
  {
   "cell_type": "code",
   "execution_count": 120,
   "metadata": {},
   "outputs": [],
   "source": [
    "test = test.drop([\"date\",\"winner\"], axis=1,inplace=False)"
   ]
  },
  {
   "cell_type": "code",
   "execution_count": 121,
   "metadata": {},
   "outputs": [
    {
     "data": {
      "text/html": [
       "<div>\n",
       "<style scoped>\n",
       "    .dataframe tbody tr th:only-of-type {\n",
       "        vertical-align: middle;\n",
       "    }\n",
       "\n",
       "    .dataframe tbody tr th {\n",
       "        vertical-align: top;\n",
       "    }\n",
       "\n",
       "    .dataframe thead th {\n",
       "        text-align: right;\n",
       "    }\n",
       "</style>\n",
       "<table border=\"1\" class=\"dataframe\">\n",
       "  <thead>\n",
       "    <tr style=\"text-align: right;\">\n",
       "      <th></th>\n",
       "      <th>team1</th>\n",
       "      <th>team2</th>\n",
       "      <th>city</th>\n",
       "      <th>toss_winner</th>\n",
       "      <th>venue</th>\n",
       "      <th>toss_decision</th>\n",
       "    </tr>\n",
       "  </thead>\n",
       "  <tbody>\n",
       "    <tr>\n",
       "      <th>0</th>\n",
       "      <td>9</td>\n",
       "      <td>1</td>\n",
       "      <td>3</td>\n",
       "      <td>1</td>\n",
       "      <td>3</td>\n",
       "      <td>0</td>\n",
       "    </tr>\n",
       "    <tr>\n",
       "      <th>1</th>\n",
       "      <td>10</td>\n",
       "      <td>6</td>\n",
       "      <td>5</td>\n",
       "      <td>6</td>\n",
       "      <td>5</td>\n",
       "      <td>0</td>\n",
       "    </tr>\n",
       "  </tbody>\n",
       "</table>\n",
       "</div>"
      ],
      "text/plain": [
       "   team1  team2  city  toss_winner  venue  toss_decision\n",
       "0      9      1     3            1      3              0\n",
       "1     10      6     5            6      5              0"
      ]
     },
     "execution_count": 121,
     "metadata": {},
     "output_type": "execute_result"
    }
   ],
   "source": [
    "test.replace(encode, inplace=True)\n",
    "test.head(2)"
   ]
  },
  {
   "cell_type": "code",
   "execution_count": 122,
   "metadata": {},
   "outputs": [],
   "source": [
    "out = model.predict(test)"
   ]
  },
  {
   "cell_type": "code",
   "execution_count": 123,
   "metadata": {},
   "outputs": [
    {
     "data": {
      "text/plain": [
       "array([1, 6, 1, 5, 5], dtype=int64)"
      ]
     },
     "execution_count": 123,
     "metadata": {},
     "output_type": "execute_result"
    }
   ],
   "source": [
    "out"
   ]
  },
  {
   "cell_type": "code",
   "execution_count": 124,
   "metadata": {},
   "outputs": [],
   "source": [
    "predicted_winner=[]\n",
    "for i in out:\n",
    "    #print(list(dicVal.keys())[list(dicVal.values()).index(i)])\n",
    "    predicted_winner.append(list(dicVal.keys())[list(dicVal.values()).index(i)])"
   ]
  },
  {
   "cell_type": "code",
   "execution_count": 125,
   "metadata": {},
   "outputs": [
    {
     "name": "stdout",
     "output_type": "stream",
     "text": [
      "4\n",
      "Accuracy of our prediction of recent IPL is  0.8\n"
     ]
    }
   ],
   "source": [
    "ipl=pd.read_csv('test.csv')\n",
    "ctr=0\n",
    "k=0\n",
    "total=len(ipl['winner'])\n",
    "for i in ipl['winner']:\n",
    "    if i==predicted_winner[k]:\n",
    "        ctr=ctr+1\n",
    "    k=k+1  \n",
    "print(ctr)\n",
    "print(\"Accuracy of our prediction of recent IPL is \", ctr/total)"
   ]
  },
  {
   "cell_type": "code",
   "execution_count": 126,
   "metadata": {},
   "outputs": [
    {
     "data": {
      "text/plain": [
       "['MI', 'RR', 'MI', 'CSK', 'CSK']"
      ]
     },
     "execution_count": 126,
     "metadata": {},
     "output_type": "execute_result"
    }
   ],
   "source": [
    "predicted_winner"
   ]
  },
  {
   "cell_type": "code",
   "execution_count": 127,
   "metadata": {},
   "outputs": [],
   "source": [
    "sub = pd.DataFrame()\n",
    "sub['team1'] = ipl['team1']\n",
    "sub['team2'] = ipl['team2']\n",
    "sub['venue'] = ipl['venue']\n",
    "sub['toss_winner'] =ipl['toss_winner']\n",
    "sub['city'] = ipl['city']\n",
    "sub['toss_decision'] = ipl['toss_decision']\n",
    "sub['date of match']=ipl['date']\n",
    "sub['actual_winner']=ipl[\"winner\"]\n",
    "sub['Predicted_winner'] = predicted_winner\n",
    "sub.to_csv('ipl2.csv',index=False)"
   ]
  },
  {
   "cell_type": "code",
   "execution_count": 128,
   "metadata": {},
   "outputs": [
    {
     "data": {
      "text/html": [
       "<div>\n",
       "<style scoped>\n",
       "    .dataframe tbody tr th:only-of-type {\n",
       "        vertical-align: middle;\n",
       "    }\n",
       "\n",
       "    .dataframe tbody tr th {\n",
       "        vertical-align: top;\n",
       "    }\n",
       "\n",
       "    .dataframe thead th {\n",
       "        text-align: right;\n",
       "    }\n",
       "</style>\n",
       "<table border=\"1\" class=\"dataframe\">\n",
       "  <thead>\n",
       "    <tr style=\"text-align: right;\">\n",
       "      <th></th>\n",
       "      <th>team1</th>\n",
       "      <th>team2</th>\n",
       "      <th>venue</th>\n",
       "      <th>toss_winner</th>\n",
       "      <th>city</th>\n",
       "      <th>toss_decision</th>\n",
       "      <th>date of match</th>\n",
       "      <th>actual_winner</th>\n",
       "      <th>Predicted_winner</th>\n",
       "    </tr>\n",
       "  </thead>\n",
       "  <tbody>\n",
       "    <tr>\n",
       "      <th>0</th>\n",
       "      <td>KXIP</td>\n",
       "      <td>MI</td>\n",
       "      <td>3</td>\n",
       "      <td>MI</td>\n",
       "      <td>3</td>\n",
       "      <td>0</td>\n",
       "      <td>11-Apr</td>\n",
       "      <td>MI</td>\n",
       "      <td>MI</td>\n",
       "    </tr>\n",
       "    <tr>\n",
       "      <th>1</th>\n",
       "      <td>SRH</td>\n",
       "      <td>RR</td>\n",
       "      <td>5</td>\n",
       "      <td>RR</td>\n",
       "      <td>5</td>\n",
       "      <td>0</td>\n",
       "      <td>27-Apr</td>\n",
       "      <td>RR</td>\n",
       "      <td>RR</td>\n",
       "    </tr>\n",
       "    <tr>\n",
       "      <th>2</th>\n",
       "      <td>KKR</td>\n",
       "      <td>MI</td>\n",
       "      <td>3</td>\n",
       "      <td>MI</td>\n",
       "      <td>3</td>\n",
       "      <td>0</td>\n",
       "      <td>5-May</td>\n",
       "      <td>MI</td>\n",
       "      <td>MI</td>\n",
       "    </tr>\n",
       "    <tr>\n",
       "      <th>3</th>\n",
       "      <td>CSK</td>\n",
       "      <td>MI</td>\n",
       "      <td>7</td>\n",
       "      <td>CSK</td>\n",
       "      <td>7</td>\n",
       "      <td>1</td>\n",
       "      <td>7-May</td>\n",
       "      <td>MI</td>\n",
       "      <td>CSK</td>\n",
       "    </tr>\n",
       "    <tr>\n",
       "      <th>4</th>\n",
       "      <td>DC</td>\n",
       "      <td>CSK</td>\n",
       "      <td>24</td>\n",
       "      <td>CSK</td>\n",
       "      <td>22</td>\n",
       "      <td>1</td>\n",
       "      <td>10-May</td>\n",
       "      <td>CSK</td>\n",
       "      <td>CSK</td>\n",
       "    </tr>\n",
       "  </tbody>\n",
       "</table>\n",
       "</div>"
      ],
      "text/plain": [
       "  team1 team2  venue toss_winner  city  toss_decision date of match  \\\n",
       "0  KXIP    MI      3          MI     3              0        11-Apr   \n",
       "1   SRH    RR      5          RR     5              0        27-Apr   \n",
       "2   KKR    MI      3          MI     3              0         5-May   \n",
       "3   CSK    MI      7         CSK     7              1         7-May   \n",
       "4    DC   CSK     24         CSK    22              1        10-May   \n",
       "\n",
       "  actual_winner Predicted_winner  \n",
       "0            MI               MI  \n",
       "1            RR               RR  \n",
       "2            MI               MI  \n",
       "3            MI              CSK  \n",
       "4           CSK              CSK  "
      ]
     },
     "execution_count": 128,
     "metadata": {},
     "output_type": "execute_result"
    }
   ],
   "source": [
    "sub.head(5)"
   ]
  },
  {
   "cell_type": "code",
   "execution_count": 129,
   "metadata": {},
   "outputs": [
    {
     "name": "stdout",
     "output_type": "stream",
     "text": [
      "\n",
      "Feature importances: If we ignore teams, Venue seems to be one of important factors in determining winners followed by toss winning, city\n",
      "\n",
      "team2            0.246070\n",
      "team1            0.225225\n",
      "venue            0.177257\n",
      "toss_winner      0.164932\n",
      "city             0.155446\n",
      "toss_decision    0.031070\n",
      "dtype: float64\n"
     ]
    }
   ],
   "source": [
    "#feature importances: If we ignore teams, Venue seems to be one of important factors in determining winners \n",
    "#followed by toss winning, city\n",
    "print()\n",
    "print(\"Feature importances: If we ignore teams, Venue seems to be one of important factors in determining winners followed by toss winning, city\")\n",
    "imp_input = pd.Series(model.feature_importances_, index=predictor_var).sort_values(ascending=False)\n",
    "print()\n",
    "print(imp_input)"
   ]
  },
  {
   "cell_type": "code",
   "execution_count": 146,
   "metadata": {},
   "outputs": [
    {
     "data": {
      "image/png": "[encoded data removed]",
      "text/plain": [
       "<Figure size 432x432 with 1 Axes>"
      ]
     },
     "metadata": {},
     "output_type": "display_data"
    }
   ],
   "source": [
    "#probability of match winning by winning toss for MI\n",
    "#df['toss_winner'].value_counts()\n",
    "count =0\n",
    "for i in range(756): \n",
    "    if df[\"toss_winner\"][i]==df[\"winner\"][i]==1 :\n",
    "        count=count+1\n",
    "#okay from the above prediction on features, we notice toss winner has least chances of winning matches\n",
    "#but does the current stats shows the same result\n",
    "#df.count --> 756 rows\n",
    "import matplotlib.pyplot as mlt\n",
    "mlt.style.use('fivethirtyeight')\n",
    "#df_fil=df[df['toss_winner']==df['winner']]\n",
    "df_fil=df[df['toss_winner']==1]\n",
    "#slices=[len(df_fil),(756-len(df_fil))]\n",
    "slices=[count,(len(df_fil)-count)]\n",
    "mlt.pie(slices,labels=['Toss & win','Toss & lose'],startangle=90,shadow=True,explode=(0,0),autopct='%1.1f%%',colors=['blue','gold'])\n",
    "fig = mlt.gcf()\n",
    "fig.set_size_inches(6,6)\n",
    "mlt.show()\n",
    "\n",
    "# Toss winning does not gaurantee a match win from analysis of current stats and thus \n",
    "#prediction feature gives less weightage to that "
   ]
  },
  {
   "cell_type": "code",
   "execution_count": 150,
   "metadata": {},
   "outputs": [
    {
     "data": {
      "image/png": "[encoded data removed]",
      "text/plain": [
       "<Figure size 432x432 with 1 Axes>"
      ]
     },
     "metadata": {},
     "output_type": "display_data"
    }
   ],
   "source": [
    "#probability of match winning by winning toss for Chennai Super Kings CSK\n",
    "#df['toss_winner'].value_counts()\n",
    "count =0\n",
    "for i in range(756): \n",
    "    if df[\"toss_winner\"][i]==df[\"winner\"][i]==5 :\n",
    "        count=count+1\n",
    "#okay from the above prediction on features, we notice toss winner has least chances of winning matches\n",
    "#but does the current stats shows the same result\n",
    "#df.count --> 756 rows\n",
    "import matplotlib.pyplot as mlt\n",
    "mlt.style.use('fivethirtyeight')\n",
    "#df_fil=df[df['toss_winner']==df['winner']]\n",
    "df_fil=df[df['toss_winner']==1]\n",
    "#slices=[len(df_fil),(756-len(df_fil))]\n",
    "slices=[count,(len(df_fil)-count)]\n",
    "mlt.pie(slices,labels=['Toss & win','Toss & lose'],startangle=90,shadow=True,explode=(0,0),autopct='%1.1f%%',colors=['yellow','b'])\n",
    "fig = mlt.gcf()\n",
    "fig.set_size_inches(6,6)\n",
    "mlt.show()\n",
    "# Toss winning does not gaurantee a match win from analysis of current stats and thus \n",
    "#prediction feature gives less weightage to that "
   ]
  },
  {
   "cell_type": "code",
   "execution_count": 142,
   "metadata": {},
   "outputs": [
    {
     "data": {
      "image/png": "[encoded data removed]",
      "text/plain": [
       "<Figure size 432x432 with 1 Axes>"
      ]
     },
     "metadata": {},
     "output_type": "display_data"
    }
   ],
   "source": [
    "#probability of match winning by winning toss for KXIP\n",
    "#df['toss_winner'].value_counts()\n",
    "count =0\n",
    "for i in range(756): \n",
    "    if df[\"toss_winner\"][i]==df[\"winner\"][i]==9 :\n",
    "        count=count+1\n",
    "#okay from the above prediction on features, we notice toss winner has least chances of winning matches\n",
    "#but does the current stats shows the same result\n",
    "#df.count --> 756 rows\n",
    "import matplotlib.pyplot as mlt\n",
    "mlt.style.use('fivethirtyeight')\n",
    "#df_fil=df[df['toss_winner']==df['winner']]\n",
    "df_fil=df[df['toss_winner']==1]\n",
    "#slices=[len(df_fil),(756-len(df_fil))]\n",
    "slices=[count,(len(df_fil)-count)]\n",
    "mlt.pie(slices,labels=['Toss & win','Toss & lose'],startangle=90,shadow=True,explode=(0,0),autopct='%1.1f%%',colors=['red','grey'])\n",
    "fig = mlt.gcf()\n",
    "fig.set_size_inches(6,6)\n",
    "mlt.show()\n",
    "# Toss winning does not gaurantee a match win from analysis of current stats and thus \n",
    "#prediction feature gives less weightage to that "
   ]
  },
  {
   "cell_type": "code",
   "execution_count": 143,
   "metadata": {},
   "outputs": [
    {
     "data": {
      "image/png": "[encoded data removed]",
      "text/plain": [
       "<Figure size 432x432 with 1 Axes>"
      ]
     },
     "metadata": {},
     "output_type": "display_data"
    }
   ],
   "source": [
    "#genralised probbaility for winning match by winning toss\n",
    "\n",
    "\n",
    "import matplotlib.pyplot as mlt\n",
    "mlt.style.use('fivethirtyeight')\n",
    "df_fil=df[df['toss_winner']==df['winner']]\n",
    "\n",
    "slices=[len(df_fil),(756-len(df_fil))]\n",
    "\n",
    "mlt.pie(slices,labels=['Toss & win','Toss & lose'],startangle=90,shadow=True,explode=(0,0),autopct='%1.1f%%',colors=['r','g'])\n",
    "fig = mlt.gcf()\n",
    "fig.set_size_inches(6,6)\n",
    "mlt.show()"
   ]
  },
  {
   "cell_type": "code",
   "execution_count": 144,
   "metadata": {},
   "outputs": [
    {
     "data": {
      "image/png": "[encoded data removed]",
      "text/plain": [
       "<Figure size 720x432 with 1 Axes>"
      ]
     },
     "metadata": {},
     "output_type": "display_data"
    },
    {
     "data": {
      "text/plain": [
       "'JSCA International Stadium Complex'"
      ]
     },
     "execution_count": 144,
     "metadata": {},
     "output_type": "execute_result"
    }
   ],
   "source": [
    "#top 2 team analysis based on number of matches won against each other and how venue affects them?\n",
    "#now let us compare venue against a match between CSK and RCB\n",
    "#we find that CSK has won most matches against RCB in MA Chidambaram Stadium, Chepauk, Chennai\n",
    "#RCB has not won any match with CSK in stadiums St George's Park and Wankhede Stadium, but won matches\n",
    "#with CSK in Kingsmead, New Wanderers Stadium.\n",
    "#It does prove that chances of CSK winning is more in Chepauk stadium when played against RCB.\n",
    "# Proves venue is important feature in predictability\n",
    "import seaborn as sns\n",
    "team1=dicVal['CSK']\n",
    "team2=dicVal['RCB']\n",
    "mtemp=matches[((matches['team1']==team1)|(matches['team2']==team1))&((matches['team1']==team2)|(matches['team2']==team2))]\n",
    "sns.countplot(x='venue', hue='winner',data=mtemp,palette='Set3')\n",
    "mlt.xticks(rotation='vertical')\n",
    "leg = mlt.legend( loc = 'upper right')\n",
    "fig=mlt.gcf()\n",
    "fig.set_size_inches(10,6)\n",
    "mlt.show()\n",
    "le.classes_[15] "
   ]
  },
  {
   "cell_type": "markdown",
   "metadata": {},
   "source": [
    "## From the generic models, viz. logistic regression, KNN, Gausian Naive Bayes, SVM, Decision Tree algo, Random Forest Classifiers, we see that SVM, Decision Tree algorithm, and Random Forest Classifiers have an accuracy of 87%. "
   ]
  },
  {
   "cell_type": "code",
   "execution_count": null,
   "metadata": {},
   "outputs": [],
   "source": []
  }
 ],
 "metadata": {
  "kernelspec": {
   "display_name": "Python 3",
   "language": "python",
   "name": "python3"
  },
  "language_info": {
   "codemirror_mode": {
    "name": "ipython",
    "version": 3
   },
   "file_extension": ".py",
   "mimetype": "text/x-python",
   "name": "python",
   "nbconvert_exporter": "python",
   "pygments_lexer": "ipython3",
   "version": "3.8.3"
  }
 },
 "nbformat": 4,
 "nbformat_minor": 2
}
